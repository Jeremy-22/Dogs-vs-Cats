{
    "nbformat": 4,
    "nbformat_minor": 0,
    "metadata": {
        "colab": {
            "provenance": []
        },
        "kernelspec": {
            "name": "python3",
            "display_name": "Python 3"
        },
        "language_info": {
            "name": "python"
        },
        "widgets": {
            "application/vnd.jupyter.widget-state+json": {
                "29e3399dce024ee68593a963e6c30d62": {
                    "model_module": "@jupyter-widgets/controls",
                    "model_name": "VBoxModel",
                    "model_module_version": "1.5.0",
                    "state": {
                        "_dom_classes": [],
                        "_model_module": "@jupyter-widgets/controls",
                        "_model_module_version": "1.5.0",
                        "_model_name": "VBoxModel",
                        "_view_count": null,
                        "_view_module": "@jupyter-widgets/controls",
                        "_view_module_version": "1.5.0",
                        "_view_name": "VBoxView",
                        "box_style": "",
                        "children": [
                            "IPY_MODEL_0680d0e00736408191f2b9877619b08f",
                            "IPY_MODEL_a149a4352c1e4adcb7bb555ae11ad5fd"
                        ],
                        "layout": "IPY_MODEL_89f79af14b3a46bcb3a386f480e694ac"
                    }
                },
                "0680d0e00736408191f2b9877619b08f": {
                    "model_module": "@jupyter-widgets/controls",
                    "model_name": "LabelModel",
                    "model_module_version": "1.5.0",
                    "state": {
                        "_dom_classes": [],
                        "_model_module": "@jupyter-widgets/controls",
                        "_model_module_version": "1.5.0",
                        "_model_name": "LabelModel",
                        "_view_count": null,
                        "_view_module": "@jupyter-widgets/controls",
                        "_view_module_version": "1.5.0",
                        "_view_name": "LabelView",
                        "description": "",
                        "description_tooltip": null,
                        "layout": "IPY_MODEL_50b16a92570c4621ad3a976dd32eeee5",
                        "placeholder": "\u200b",
                        "style": "IPY_MODEL_dafb304bc9d2448193dd684c78c87aca",
                        "value": "104.467 MB of 104.476 MB uploaded (0.563 MB deduped)\r"
                    }
                },
                "a149a4352c1e4adcb7bb555ae11ad5fd": {
                    "model_module": "@jupyter-widgets/controls",
                    "model_name": "FloatProgressModel",
                    "model_module_version": "1.5.0",
                    "state": {
                        "_dom_classes": [],
                        "_model_module": "@jupyter-widgets/controls",
                        "_model_module_version": "1.5.0",
                        "_model_name": "FloatProgressModel",
                        "_view_count": null,
                        "_view_module": "@jupyter-widgets/controls",
                        "_view_module_version": "1.5.0",
                        "_view_name": "ProgressView",
                        "bar_style": "",
                        "description": "",
                        "description_tooltip": null,
                        "layout": "IPY_MODEL_413b7f9da24044689e7cb864742ec4ac",
                        "max": 1,
                        "min": 0,
                        "orientation": "horizontal",
                        "style": "IPY_MODEL_5c46b08907014105af27e26a02a71f3c",
                        "value": 0.9999096860695446
                    }
                },
                "89f79af14b3a46bcb3a386f480e694ac": {
                    "model_module": "@jupyter-widgets/base",
                    "model_name": "LayoutModel",
                    "model_module_version": "1.2.0",
                    "state": {
                        "_model_module": "@jupyter-widgets/base",
                        "_model_module_version": "1.2.0",
                        "_model_name": "LayoutModel",
                        "_view_count": null,
                        "_view_module": "@jupyter-widgets/base",
                        "_view_module_version": "1.2.0",
                        "_view_name": "LayoutView",
                        "align_content": null,
                        "align_items": null,
                        "align_self": null,
                        "border": null,
                        "bottom": null,
                        "display": null,
                        "flex": null,
                        "flex_flow": null,
                        "grid_area": null,
                        "grid_auto_columns": null,
                        "grid_auto_flow": null,
                        "grid_auto_rows": null,
                        "grid_column": null,
                        "grid_gap": null,
                        "grid_row": null,
                        "grid_template_areas": null,
                        "grid_template_columns": null,
                        "grid_template_rows": null,
                        "height": null,
                        "justify_content": null,
                        "justify_items": null,
                        "left": null,
                        "margin": null,
                        "max_height": null,
                        "max_width": null,
                        "min_height": null,
                        "min_width": null,
                        "object_fit": null,
                        "object_position": null,
                        "order": null,
                        "overflow": null,
                        "overflow_x": null,
                        "overflow_y": null,
                        "padding": null,
                        "right": null,
                        "top": null,
                        "visibility": null,
                        "width": null
                    }
                },
                "50b16a92570c4621ad3a976dd32eeee5": {
                    "model_module": "@jupyter-widgets/base",
                    "model_name": "LayoutModel",
                    "model_module_version": "1.2.0",
                    "state": {
                        "_model_module": "@jupyter-widgets/base",
                        "_model_module_version": "1.2.0",
                        "_model_name": "LayoutModel",
                        "_view_count": null,
                        "_view_module": "@jupyter-widgets/base",
                        "_view_module_version": "1.2.0",
                        "_view_name": "LayoutView",
                        "align_content": null,
                        "align_items": null,
                        "align_self": null,
                        "border": null,
                        "bottom": null,
                        "display": null,
                        "flex": null,
                        "flex_flow": null,
                        "grid_area": null,
                        "grid_auto_columns": null,
                        "grid_auto_flow": null,
                        "grid_auto_rows": null,
                        "grid_column": null,
                        "grid_gap": null,
                        "grid_row": null,
                        "grid_template_areas": null,
                        "grid_template_columns": null,
                        "grid_template_rows": null,
                        "height": null,
                        "justify_content": null,
                        "justify_items": null,
                        "left": null,
                        "margin": null,
                        "max_height": null,
                        "max_width": null,
                        "min_height": null,
                        "min_width": null,
                        "object_fit": null,
                        "object_position": null,
                        "order": null,
                        "overflow": null,
                        "overflow_x": null,
                        "overflow_y": null,
                        "padding": null,
                        "right": null,
                        "top": null,
                        "visibility": null,
                        "width": null
                    }
                },
                "dafb304bc9d2448193dd684c78c87aca": {
                    "model_module": "@jupyter-widgets/controls",
                    "model_name": "DescriptionStyleModel",
                    "model_module_version": "1.5.0",
                    "state": {
                        "_model_module": "@jupyter-widgets/controls",
                        "_model_module_version": "1.5.0",
                        "_model_name": "DescriptionStyleModel",
                        "_view_count": null,
                        "_view_module": "@jupyter-widgets/base",
                        "_view_module_version": "1.2.0",
                        "_view_name": "StyleView",
                        "description_width": ""
                    }
                },
                "413b7f9da24044689e7cb864742ec4ac": {
                    "model_module": "@jupyter-widgets/base",
                    "model_name": "LayoutModel",
                    "model_module_version": "1.2.0",
                    "state": {
                        "_model_module": "@jupyter-widgets/base",
                        "_model_module_version": "1.2.0",
                        "_model_name": "LayoutModel",
                        "_view_count": null,
                        "_view_module": "@jupyter-widgets/base",
                        "_view_module_version": "1.2.0",
                        "_view_name": "LayoutView",
                        "align_content": null,
                        "align_items": null,
                        "align_self": null,
                        "border": null,
                        "bottom": null,
                        "display": null,
                        "flex": null,
                        "flex_flow": null,
                        "grid_area": null,
                        "grid_auto_columns": null,
                        "grid_auto_flow": null,
                        "grid_auto_rows": null,
                        "grid_column": null,
                        "grid_gap": null,
                        "grid_row": null,
                        "grid_template_areas": null,
                        "grid_template_columns": null,
                        "grid_template_rows": null,
                        "height": null,
                        "justify_content": null,
                        "justify_items": null,
                        "left": null,
                        "margin": null,
                        "max_height": null,
                        "max_width": null,
                        "min_height": null,
                        "min_width": null,
                        "object_fit": null,
                        "object_position": null,
                        "order": null,
                        "overflow": null,
                        "overflow_x": null,
                        "overflow_y": null,
                        "padding": null,
                        "right": null,
                        "top": null,
                        "visibility": null,
                        "width": null
                    }
                },
                "5c46b08907014105af27e26a02a71f3c": {
                    "model_module": "@jupyter-widgets/controls",
                    "model_name": "ProgressStyleModel",
                    "model_module_version": "1.5.0",
                    "state": {
                        "_model_module": "@jupyter-widgets/controls",
                        "_model_module_version": "1.5.0",
                        "_model_name": "ProgressStyleModel",
                        "_view_count": null,
                        "_view_module": "@jupyter-widgets/base",
                        "_view_module_version": "1.2.0",
                        "_view_name": "StyleView",
                        "bar_color": null,
                        "description_width": ""
                    }
                }
            }
        }
    },
    "cells": [
        {
            "cell_type": "code",
            "source": [
                "REPO_NAME= \"Dogs-vs-Cats\"\n",
                "REPO_OWNER= \"Jeremy-22\"\n",
                "USER_NAME = \"Jeremy-22\"\n"
            ],
            "metadata": {
                "id": "fUkzqWhQAqy-",
                "executionInfo": {
                    "status": "ok",
                    "timestamp": 1696883393477,
                    "user_tz": 360,
                    "elapsed": 418,
                    "user": {
                        "displayName": "",
                        "userId": ""
                    }
                }
            },
            "execution_count": 9,
            "outputs": []
        },
        {
            "cell_type": "code",
            "source": [
                "!pip install mlflow --quiet"
            ],
            "metadata": {
                "id": "_HdM98R9ArKa",
                "colab": {
                    "base_uri": "https://localhost:8080/"
                },
                "executionInfo": {
                    "status": "ok",
                    "timestamp": 1696883167707,
                    "user_tz": 360,
                    "elapsed": 10422,
                    "user": {
                        "displayName": "",
                        "userId": ""
                    }
                },
                "outputId": "b076b617-7d42-4d59-e2ed-4489ce54bb16"
            },
            "execution_count": 3,
            "outputs": [
                {
                    "output_type": "stream",
                    "name": "stdout",
                    "text": [
                        "\u001b[2K     \u001b[90m\u2501\u2501\u2501\u2501\u2501\u2501\u2501\u2501\u2501\u2501\u2501\u2501\u2501\u2501\u2501\u2501\u2501\u2501\u2501\u2501\u2501\u2501\u2501\u2501\u2501\u2501\u2501\u2501\u2501\u2501\u2501\u2501\u2501\u2501\u2501\u2501\u2501\u2501\u2501\u2501\u001b[0m \u001b[32m18.5/18.5 MB\u001b[0m \u001b[31m48.6 MB/s\u001b[0m eta \u001b[36m0:00:00\u001b[0m\n",
                        "\u001b[2K     \u001b[90m\u2501\u2501\u2501\u2501\u2501\u2501\u2501\u2501\u2501\u2501\u2501\u2501\u2501\u2501\u2501\u2501\u2501\u2501\u2501\u2501\u2501\u2501\u2501\u2501\u2501\u2501\u2501\u2501\u2501\u2501\u2501\u2501\u2501\u2501\u2501\u2501\u2501\u2501\u001b[0m \u001b[32m150.3/150.3 kB\u001b[0m \u001b[31m16.9 MB/s\u001b[0m eta \u001b[36m0:00:00\u001b[0m\n",
                        "\u001b[2K     \u001b[90m\u2501\u2501\u2501\u2501\u2501\u2501\u2501\u2501\u2501\u2501\u2501\u2501\u2501\u2501\u2501\u2501\u2501\u2501\u2501\u2501\u2501\u2501\u2501\u2501\u2501\u2501\u2501\u2501\u2501\u2501\u2501\u2501\u2501\u2501\u2501\u2501\u2501\u2501\u001b[0m \u001b[32m190.0/190.0 kB\u001b[0m \u001b[31m21.6 MB/s\u001b[0m eta \u001b[36m0:00:00\u001b[0m\n",
                        "\u001b[2K     \u001b[90m\u2501\u2501\u2501\u2501\u2501\u2501\u2501\u2501\u2501\u2501\u2501\u2501\u2501\u2501\u2501\u2501\u2501\u2501\u2501\u2501\u2501\u2501\u2501\u2501\u2501\u2501\u2501\u2501\u2501\u2501\u2501\u2501\u2501\u2501\u2501\u2501\u2501\u2501\u001b[0m \u001b[32m226.0/226.0 kB\u001b[0m \u001b[31m25.7 MB/s\u001b[0m eta \u001b[36m0:00:00\u001b[0m\n",
                        "\u001b[2K     \u001b[90m\u2501\u2501\u2501\u2501\u2501\u2501\u2501\u2501\u2501\u2501\u2501\u2501\u2501\u2501\u2501\u2501\u2501\u2501\u2501\u2501\u2501\u2501\u2501\u2501\u2501\u2501\u2501\u2501\u2501\u2501\u2501\u2501\u2501\u2501\u2501\u2501\u2501\u2501\u001b[0m \u001b[32m148.1/148.1 kB\u001b[0m \u001b[31m17.5 MB/s\u001b[0m eta \u001b[36m0:00:00\u001b[0m\n",
                        "\u001b[2K     \u001b[90m\u2501\u2501\u2501\u2501\u2501\u2501\u2501\u2501\u2501\u2501\u2501\u2501\u2501\u2501\u2501\u2501\u2501\u2501\u2501\u2501\u2501\u2501\u2501\u2501\u2501\u2501\u2501\u2501\u2501\u2501\u2501\u2501\u2501\u2501\u2501\u2501\u2501\u2501\u2501\u2501\u001b[0m \u001b[32m80.2/80.2 kB\u001b[0m \u001b[31m10.2 MB/s\u001b[0m eta \u001b[36m0:00:00\u001b[0m\n",
                        "\u001b[2K     \u001b[90m\u2501\u2501\u2501\u2501\u2501\u2501\u2501\u2501\u2501\u2501\u2501\u2501\u2501\u2501\u2501\u2501\u2501\u2501\u2501\u2501\u2501\u2501\u2501\u2501\u2501\u2501\u2501\u2501\u2501\u2501\u2501\u2501\u2501\u2501\u2501\u2501\u2501\u2501\u2501\u2501\u001b[0m \u001b[32m78.7/78.7 kB\u001b[0m \u001b[31m8.7 MB/s\u001b[0m eta \u001b[36m0:00:00\u001b[0m\n",
                        "\u001b[2K     \u001b[90m\u2501\u2501\u2501\u2501\u2501\u2501\u2501\u2501\u2501\u2501\u2501\u2501\u2501\u2501\u2501\u2501\u2501\u2501\u2501\u2501\u2501\u2501\u2501\u2501\u2501\u2501\u2501\u2501\u2501\u2501\u2501\u2501\u2501\u2501\u2501\u2501\u2501\u2501\u2501\u2501\u001b[0m \u001b[32m62.7/62.7 kB\u001b[0m \u001b[31m6.2 MB/s\u001b[0m eta \u001b[36m0:00:00\u001b[0m\n",
                        "\u001b[?25h"
                    ]
                }
            ]
        },
        {
            "cell_type": "code",
            "source": [
                "import mlflow\n",
                "import os\n",
                "from getpass import getpass\n",
                "\n",
                "os.environ['MLFLOW_TRACKING_USERNAME'] = USER_NAME\n",
                "os.environ['MLFLOW_TRACKING_PASSWORD'] = getpass('Enter your DAGsHub access token or password: ')\n",
                "\n",
                "mlflow.set_tracking_uri(f'https://dagshub.com/{REPO_OWNER}/{REPO_NAME}.mlflow')"
            ],
            "metadata": {
                "id": "mvyCiJoKCcC8",
                "colab": {
                    "base_uri": "https://localhost:8080/"
                },
                "executionInfo": {
                    "status": "ok",
                    "timestamp": 1696883399659,
                    "user_tz": 360,
                    "elapsed": 3509,
                    "user": {
                        "displayName": "",
                        "userId": ""
                    }
                },
                "outputId": "9171a5d9-e447-4c1b-a00d-543b5f7a469c"
            },
            "execution_count": 10,
            "outputs": [
                {
                    "name": "stdout",
                    "output_type": "stream",
                    "text": [
                        "Enter your DAGsHub access token or password: \u00b7\u00b7\u00b7\u00b7\u00b7\u00b7\u00b7\u00b7\u00b7\u00b7\n"
                    ]
                }
            ]
        },
        {
            "cell_type": "code",
            "source": [
                "!git clone https://dagshub.com/jorgevc/Gatos-y-Perros.git\n"
            ],
            "metadata": {
                "colab": {
                    "base_uri": "https://localhost:8080/"
                },
                "id": "ZAlEubvCGU-n",
                "executionInfo": {
                    "status": "ok",
                    "timestamp": 1696862506416,
                    "user_tz": 360,
                    "elapsed": 548,
                    "user": {
                        "displayName": "",
                        "userId": ""
                    }
                },
                "outputId": "5034e124-723b-45de-e418-1f77d26c0819"
            },
            "execution_count": null,
            "outputs": [
                {
                    "output_type": "stream",
                    "name": "stdout",
                    "text": [
                        "Cloning into 'Gatos-y-Perros'...\n",
                        "remote: Enumerating objects: 22, done.\u001b[K\n",
                        "remote: Counting objects: 100% (22/22), done.\u001b[K\n",
                        "remote: Compressing objects: 100% (19/19), done.\u001b[K\n",
                        "remote: Total 22 (delta 6), reused 0 (delta 0), pack-reused 0\u001b[K\n",
                        "Receiving objects: 100% (22/22), 4.93 KiB | 1.64 MiB/s, done.\n",
                        "Resolving deltas: 100% (6/6), done.\n"
                    ]
                }
            ]
        },
        {
            "cell_type": "code",
            "source": [
                "%cd Gatos-y-Perros"
            ],
            "metadata": {
                "colab": {
                    "base_uri": "https://localhost:8080/"
                },
                "id": "IiwKLdl9GVf_",
                "executionInfo": {
                    "status": "ok",
                    "timestamp": 1696862506416,
                    "user_tz": 360,
                    "elapsed": 10,
                    "user": {
                        "displayName": "",
                        "userId": ""
                    }
                },
                "outputId": "1f76e8e4-f42e-4782-e88c-66bec022bd7a"
            },
            "execution_count": null,
            "outputs": [
                {
                    "output_type": "stream",
                    "name": "stdout",
                    "text": [
                        "/content/Gatos-y-Perros\n"
                    ]
                }
            ]
        },
        {
            "cell_type": "code",
            "source": [
                "!pip install dvc>=2.8.1 --quiet"
            ],
            "metadata": {
                "id": "lnjuGCY4G3t8"
            },
            "execution_count": null,
            "outputs": []
        },
        {
            "cell_type": "code",
            "source": [
                "!more .dvc/config"
            ],
            "metadata": {
                "colab": {
                    "base_uri": "https://localhost:8080/"
                },
                "id": "N-EwRTDtHLIB",
                "executionInfo": {
                    "status": "ok",
                    "timestamp": 1696862525774,
                    "user_tz": 360,
                    "elapsed": 222,
                    "user": {
                        "displayName": "",
                        "userId": ""
                    }
                },
                "outputId": "75cc38c2-6a8d-4232-b03d-983e3eb8d9f6"
            },
            "execution_count": null,
            "outputs": [
                {
                    "output_type": "stream",
                    "name": "stdout",
                    "text": [
                        "[core]\n",
                        "    autostage = true\n",
                        "['remote \"origin\"']\n",
                        "    url = s3://dvc\n",
                        "    endpointurl = https://dagshub.com/jorgevc/Gatos-y-Perros.s3\n"
                    ]
                }
            ]
        },
        {
            "cell_type": "code",
            "source": [
                "!dvc remote add origin https://dagshub.com/jorgevc/Gatos-y-Perros.dvc -f\n",
                "!more .dvc/config"
            ],
            "metadata": {
                "colab": {
                    "base_uri": "https://localhost:8080/"
                },
                "id": "ZP8X5fGeHdEk",
                "executionInfo": {
                    "status": "ok",
                    "timestamp": 1696862526616,
                    "user_tz": 360,
                    "elapsed": 847,
                    "user": {
                        "displayName": "",
                        "userId": ""
                    }
                },
                "outputId": "225cd609-4447-4969-a487-145fbc720e62"
            },
            "execution_count": null,
            "outputs": [
                {
                    "output_type": "stream",
                    "name": "stdout",
                    "text": [
                        "\u001b[0m[core]\n",
                        "    autostage = true\n",
                        "['remote \"origin\"']\n",
                        "    url = https://dagshub.com/jorgevc/Gatos-y-Perros.dvc\n"
                    ]
                }
            ]
        },
        {
            "cell_type": "code",
            "source": [
                "!dvc get-url https://dagshub.com/jorgevc/Gatos-y-Perros/raw/24eaabd8ca81ed89f780138c1e3955ccd1f3d155/data/DogsCats.zip"
            ],
            "metadata": {
                "colab": {
                    "base_uri": "https://localhost:8080/"
                },
                "id": "GSdfpl121x_L",
                "executionInfo": {
                    "status": "ok",
                    "timestamp": 1696862533508,
                    "user_tz": 360,
                    "elapsed": 6899,
                    "user": {
                        "displayName": "",
                        "userId": ""
                    }
                },
                "outputId": "3c226fd5-b006-4760-cbf7-5d464dbdf7f8"
            },
            "execution_count": null,
            "outputs": [
                {
                    "output_type": "stream",
                    "name": "stdout",
                    "text": [
                        "\r!\r  0% Downloading DogsCats.zip|          |0/? [00:00<?,    ?files/s]\rDownloading DogsCats.zip:   0% 0/1 [00:00<?, ?files/s{'info': ''}] \n",
                        "\r!\u001b[A\n",
                        "  0%|          |https://dagshub.com/jorgevc/Gatos-y0.00/? [00:00<?,        ?B/s]\u001b[A\n",
                        "  0%|          |https://dagshub.com/jorgevc/Gatos-y0.00/? [00:00<?,        ?B/s]\u001b[A\n",
                        "  0%|          |https://dagshub.com/jorgevc/Ga11.5M/? [00:00<00:00,     120MB/s]\u001b[A\n",
                        "  0%|          |https://dagshub.com/jorgevc/Ga22.5M/? [00:00<00:00,     117MB/s]\u001b[A\n",
                        "  0%|          |https://dagshub.com/jorgevc/Ga31.8M/? [00:00<00:00,     108MB/s]\u001b[A\n",
                        "  0%|          |https://dagshub.com/jorgevc/Ga41.5M/? [00:00<00:00,     105MB/s]\u001b[A\n",
                        "  0%|          |https://dagshub.com/jorgevc/Ga52.4M/? [00:00<00:00,     108MB/s]\u001b[A\n",
                        "  0%|          |https://dagshub.com/jorgevc/Ga64.4M/? [00:00<00:00,     114MB/s]\u001b[A\n",
                        "  0%|          |https://dagshub.com/jorgevc/Ga76.6M/? [00:00<00:00,     118MB/s]\u001b[A\n",
                        "  0%|          |https://dagshub.com/jorgevc/Ga84.4M/? [00:00<00:00,     100MB/s]\u001b[A\n",
                        "  0%|          |https://dagshub.com/jorgevc/Ga94.0M/? [00:00<00:00,    98.6MB/s]\u001b[A\n",
                        "  0%|          |https://dagshub.com/jorgevc/Gat105M/? [00:01<00:00,     103MB/s]\u001b[A\n",
                        "  0%|          |https://dagshub.com/jorgevc/Gat114M/? [00:01<00:00,     100MB/s]\u001b[A\n",
                        "  0%|          |https://dagshub.com/jorgevc/Gat127M/? [00:01<00:00,     112MB/s]\u001b[A\n",
                        "  0%|          |https://dagshub.com/jorgevc/Gat141M/? [00:01<00:00,     122MB/s]\u001b[A\n",
                        "  0%|          |https://dagshub.com/jorgevc/Gat151M/? [00:01<00:00,     115MB/s]\u001b[A\n",
                        "  0%|          |https://dagshub.com/jorgevc/Gat159M/? [00:01<00:00,     103MB/s]\u001b[A\n",
                        "  0%|          |https://dagshub.com/jorgevc/Gat167M/? [00:01<00:00,    98.7MB/s]\u001b[A\n",
                        "  0%|          |https://dagshub.com/jorgevc/Gat175M/? [00:01<00:00,    93.9MB/s]\u001b[A\n",
                        "  0%|          |https://dagshub.com/jorgevc/Gat187M/? [00:01<00:00,     102MB/s]\u001b[A\n",
                        "  0%|          |https://dagshub.com/jorgevc/Gat195M/? [00:01<00:00,    97.2MB/s]\u001b[A\n",
                        "  0%|          |https://dagshub.com/jorgevc/Gat205M/? [00:02<00:00,    99.1MB/s]\u001b[A\n",
                        "  0%|          |https://dagshub.com/jorgevc/Gat216M/? [00:02<00:00,     102MB/s]\u001b[A\n",
                        "  0%|          |https://dagshub.com/jorgevc/Gat227M/? [00:02<00:00,     107MB/s]\u001b[A\n",
                        "  0%|          |https://dagshub.com/jorgevc/Gat236M/? [00:02<00:00,     103MB/s]\u001b[A\n",
                        "  0%|          |https://dagshub.com/jorgevc/Gat247M/? [00:02<00:00,     105MB/s]\u001b[A\n",
                        "  0%|          |https://dagshub.com/jorgevc/Gat257M/? [00:02<00:00,     105MB/s]\u001b[A\n",
                        "  0%|          |https://dagshub.com/jorgevc/Gat266M/? [00:02<00:00,     102MB/s]\u001b[A\n",
                        "  0%|          |https://dagshub.com/jorgevc/Gat277M/? [00:02<00:00,     105MB/s]\u001b[A\n",
                        "  0%|          |https://dagshub.com/jorgevc/Gat287M/? [00:02<00:00,     105MB/s]\u001b[A\n",
                        "  0%|          |https://dagshub.com/jorgevc/Gat297M/? [00:02<00:00,     102MB/s]\u001b[A\n",
                        "  0%|          |https://dagshub.com/jorgevc/Gat302M/? [00:03<00:00,    87.7MB/s]\u001b[A\n",
                        "  0%|          |https://dagshub.com/jorgevc/Gat312M/? [00:03<00:00,    91.9MB/s]\u001b[A\n",
                        "  0%|          |https://dagshub.com/jorgevc/Gat321M/? [00:03<00:00,    94.0MB/s]\u001b[A\n",
                        "  0%|          |https://dagshub.com/jorgevc/Gat327M/? [00:03<00:00,    85.0MB/s]\u001b[A\n",
                        "  0%|          |https://dagshub.com/jorgevc/Gat339M/? [00:03<00:00,    94.5MB/s]\u001b[A\n",
                        "  0%|          |https://dagshub.com/jorgevc/Gat348M/? [00:03<00:00,    95.5MB/s]\u001b[A\n",
                        "  0%|          |https://dagshub.com/jorgevc/Gat360M/? [00:03<00:00,     105MB/s]\u001b[A\n",
                        "  0%|          |https://dagshub.com/jorgevc/Gat372M/? [00:03<00:00,     108MB/s]\u001b[A\n",
                        "  0%|          |https://dagshub.com/jorgevc/Gat384M/? [00:03<00:00,     114MB/s]\u001b[A\n",
                        "  0%|          |https://dagshub.com/jorgevc/Gat393M/? [00:03<00:00,     106MB/s]\u001b[A\n",
                        "  0%|          |https://dagshub.com/jorgevc/Gat406M/? [00:04<00:00,     115MB/s]\u001b[A\n",
                        "  0%|          |https://dagshub.com/jorgevc/Gat419M/? [00:04<00:00,     121MB/s]\u001b[A\n",
                        "  0%|          |https://dagshub.com/jorgevc/Gat431M/? [00:04<00:00,     124MB/s]\u001b[A\n",
                        "  0%|          |https://dagshub.com/jorgevc/Gat442M/? [00:04<00:00,     120MB/s]\u001b[A\n",
                        "  0%|          |https://dagshub.com/jorgevc/Gat452M/? [00:04<00:00,     114MB/s]\u001b[A\n",
                        "  0%|          |https://dagshub.com/jorgevc/Gat462M/? [00:04<00:00,     111MB/s]\u001b[A\n",
                        "  0%|          |https://dagshub.com/jorgevc/Gat474M/? [00:04<00:00,     115MB/s]\u001b[A\n",
                        "  0%|          |https://dagshub.com/jorgevc/Gat486M/? [00:04<00:00,     118MB/s]\u001b[A\n",
                        "  0%|          |https://dagshub.com/jorgevc/Gat498M/? [00:04<00:00,     120MB/s]\u001b[A\n",
                        "  0%|          |https://dagshub.com/jorgevc/Gat508M/? [00:04<00:00,     116MB/s]\u001b[A\n",
                        "  0%|          |https://dagshub.com/jorgevc/Gat516M/? [00:05<00:00,     106MB/s]\u001b[A\n",
                        "  0%|          |https://dagshub.com/jorgevc/Gat519M/? [00:05<00:00,    83.6MB/s]\u001b[A\n",
                        "  0%|          |https://dagshub.com/jorgevc/Gat526M/? [00:05<00:00,    79.0MB/s]\u001b[A\n",
                        "  0%|          |https://dagshub.com/jorgevc/Gat533M/? [00:05<00:00,    76.9MB/s]\u001b[A\n",
                        "Downloading DogsCats.zip: 100% 1/1 [00:05<00:00,  5.75s/files{'info': ''}]\n",
                        "\u001b[0m"
                    ]
                }
            ]
        },
        {
            "cell_type": "code",
            "source": [
                "!ls"
            ],
            "metadata": {
                "colab": {
                    "base_uri": "https://localhost:8080/"
                },
                "id": "XWAi5DIx22Su",
                "executionInfo": {
                    "status": "ok",
                    "timestamp": 1696862533509,
                    "user_tz": 360,
                    "elapsed": 29,
                    "user": {
                        "displayName": "",
                        "userId": ""
                    }
                },
                "outputId": "e4e0b05f-da9c-45da-8530-7aeb7dee434a"
            },
            "execution_count": null,
            "outputs": [
                {
                    "output_type": "stream",
                    "name": "stdout",
                    "text": [
                        "'=2.8.1'   data.dvc   DogsCats.zip   README.md\t redconv.py   reddensa.py\n"
                    ]
                }
            ]
        },
        {
            "cell_type": "code",
            "source": [
                "%pip install -q wandb"
            ],
            "metadata": {
                "id": "wOrjjFBa63a2",
                "executionInfo": {
                    "status": "ok",
                    "timestamp": 1696862541464,
                    "user_tz": 360,
                    "elapsed": 7964,
                    "user": {
                        "displayName": "",
                        "userId": ""
                    }
                },
                "colab": {
                    "base_uri": "https://localhost:8080/"
                },
                "outputId": "2e14ea94-3c54-4341-a6b9-72f75a59dcde"
            },
            "execution_count": null,
            "outputs": [
                {
                    "output_type": "stream",
                    "name": "stdout",
                    "text": [
                        "\u001b[2K     \u001b[90m\u2501\u2501\u2501\u2501\u2501\u2501\u2501\u2501\u2501\u2501\u2501\u2501\u2501\u2501\u2501\u2501\u2501\u2501\u2501\u2501\u2501\u2501\u2501\u2501\u2501\u2501\u2501\u2501\u2501\u2501\u2501\u2501\u2501\u2501\u2501\u2501\u2501\u2501\u2501\u2501\u001b[0m \u001b[32m2.1/2.1 MB\u001b[0m \u001b[31m40.9 MB/s\u001b[0m eta \u001b[36m0:00:00\u001b[0m\n",
                        "\u001b[2K     \u001b[90m\u2501\u2501\u2501\u2501\u2501\u2501\u2501\u2501\u2501\u2501\u2501\u2501\u2501\u2501\u2501\u2501\u2501\u2501\u2501\u2501\u2501\u2501\u2501\u2501\u2501\u2501\u2501\u2501\u2501\u2501\u2501\u2501\u2501\u2501\u2501\u2501\u2501\u2501\u001b[0m \u001b[32m224.8/224.8 kB\u001b[0m \u001b[31m24.6 MB/s\u001b[0m eta \u001b[36m0:00:00\u001b[0m\n",
                        "\u001b[?25h  Preparing metadata (setup.py) ... \u001b[?25l\u001b[?25hdone\n",
                        "  Building wheel for pathtools (setup.py) ... \u001b[?25l\u001b[?25hdone\n"
                    ]
                }
            ]
        },
        {
            "cell_type": "code",
            "source": [
                "%pip install tensorflow"
            ],
            "metadata": {
                "colab": {
                    "base_uri": "https://localhost:8080/"
                },
                "id": "8bN59Qx_5ofL",
                "executionInfo": {
                    "status": "ok",
                    "timestamp": 1696862546579,
                    "user_tz": 360,
                    "elapsed": 5142,
                    "user": {
                        "displayName": "",
                        "userId": ""
                    }
                },
                "outputId": "4d5f880f-03c0-4a0e-8faa-7c7c44e4887f"
            },
            "execution_count": null,
            "outputs": [
                {
                    "output_type": "stream",
                    "name": "stdout",
                    "text": [
                        "Requirement already satisfied: tensorflow in /usr/local/lib/python3.10/dist-packages (2.13.0)\n",
                        "Requirement already satisfied: absl-py>=1.0.0 in /usr/local/lib/python3.10/dist-packages (from tensorflow) (1.4.0)\n",
                        "Requirement already satisfied: astunparse>=1.6.0 in /usr/local/lib/python3.10/dist-packages (from tensorflow) (1.6.3)\n",
                        "Requirement already satisfied: flatbuffers>=23.1.21 in /usr/local/lib/python3.10/dist-packages (from tensorflow) (23.5.26)\n",
                        "Requirement already satisfied: gast<=0.4.0,>=0.2.1 in /usr/local/lib/python3.10/dist-packages (from tensorflow) (0.4.0)\n",
                        "Requirement already satisfied: google-pasta>=0.1.1 in /usr/local/lib/python3.10/dist-packages (from tensorflow) (0.2.0)\n",
                        "Requirement already satisfied: grpcio<2.0,>=1.24.3 in /usr/local/lib/python3.10/dist-packages (from tensorflow) (1.59.0)\n",
                        "Requirement already satisfied: h5py>=2.9.0 in /usr/local/lib/python3.10/dist-packages (from tensorflow) (3.9.0)\n",
                        "Requirement already satisfied: keras<2.14,>=2.13.1 in /usr/local/lib/python3.10/dist-packages (from tensorflow) (2.13.1)\n",
                        "Requirement already satisfied: libclang>=13.0.0 in /usr/local/lib/python3.10/dist-packages (from tensorflow) (16.0.6)\n",
                        "Requirement already satisfied: numpy<=1.24.3,>=1.22 in /usr/local/lib/python3.10/dist-packages (from tensorflow) (1.23.5)\n",
                        "Requirement already satisfied: opt-einsum>=2.3.2 in /usr/local/lib/python3.10/dist-packages (from tensorflow) (3.3.0)\n",
                        "Requirement already satisfied: packaging in /usr/local/lib/python3.10/dist-packages (from tensorflow) (23.2)\n",
                        "Requirement already satisfied: protobuf!=4.21.0,!=4.21.1,!=4.21.2,!=4.21.3,!=4.21.4,!=4.21.5,<5.0.0dev,>=3.20.3 in /usr/local/lib/python3.10/dist-packages (from tensorflow) (3.20.3)\n",
                        "Requirement already satisfied: setuptools in /usr/local/lib/python3.10/dist-packages (from tensorflow) (67.7.2)\n",
                        "Requirement already satisfied: six>=1.12.0 in /usr/local/lib/python3.10/dist-packages (from tensorflow) (1.16.0)\n",
                        "Requirement already satisfied: tensorboard<2.14,>=2.13 in /usr/local/lib/python3.10/dist-packages (from tensorflow) (2.13.0)\n",
                        "Requirement already satisfied: tensorflow-estimator<2.14,>=2.13.0 in /usr/local/lib/python3.10/dist-packages (from tensorflow) (2.13.0)\n",
                        "Requirement already satisfied: termcolor>=1.1.0 in /usr/local/lib/python3.10/dist-packages (from tensorflow) (2.3.0)\n",
                        "Requirement already satisfied: typing-extensions<4.6.0,>=3.6.6 in /usr/local/lib/python3.10/dist-packages (from tensorflow) (4.5.0)\n",
                        "Requirement already satisfied: wrapt>=1.11.0 in /usr/local/lib/python3.10/dist-packages (from tensorflow) (1.15.0)\n",
                        "Requirement already satisfied: tensorflow-io-gcs-filesystem>=0.23.1 in /usr/local/lib/python3.10/dist-packages (from tensorflow) (0.34.0)\n",
                        "Requirement already satisfied: wheel<1.0,>=0.23.0 in /usr/local/lib/python3.10/dist-packages (from astunparse>=1.6.0->tensorflow) (0.41.2)\n",
                        "Requirement already satisfied: google-auth<3,>=1.6.3 in /usr/local/lib/python3.10/dist-packages (from tensorboard<2.14,>=2.13->tensorflow) (2.17.3)\n",
                        "Requirement already satisfied: google-auth-oauthlib<1.1,>=0.5 in /usr/local/lib/python3.10/dist-packages (from tensorboard<2.14,>=2.13->tensorflow) (1.0.0)\n",
                        "Requirement already satisfied: markdown>=2.6.8 in /usr/local/lib/python3.10/dist-packages (from tensorboard<2.14,>=2.13->tensorflow) (3.4.4)\n",
                        "Requirement already satisfied: requests<3,>=2.21.0 in /usr/local/lib/python3.10/dist-packages (from tensorboard<2.14,>=2.13->tensorflow) (2.31.0)\n",
                        "Requirement already satisfied: tensorboard-data-server<0.8.0,>=0.7.0 in /usr/local/lib/python3.10/dist-packages (from tensorboard<2.14,>=2.13->tensorflow) (0.7.1)\n",
                        "Requirement already satisfied: werkzeug>=1.0.1 in /usr/local/lib/python3.10/dist-packages (from tensorboard<2.14,>=2.13->tensorflow) (3.0.0)\n",
                        "Requirement already satisfied: cachetools<6.0,>=2.0.0 in /usr/local/lib/python3.10/dist-packages (from google-auth<3,>=1.6.3->tensorboard<2.14,>=2.13->tensorflow) (5.3.1)\n",
                        "Requirement already satisfied: pyasn1-modules>=0.2.1 in /usr/local/lib/python3.10/dist-packages (from google-auth<3,>=1.6.3->tensorboard<2.14,>=2.13->tensorflow) (0.3.0)\n",
                        "Requirement already satisfied: rsa<5,>=3.1.4 in /usr/local/lib/python3.10/dist-packages (from google-auth<3,>=1.6.3->tensorboard<2.14,>=2.13->tensorflow) (4.9)\n",
                        "Requirement already satisfied: requests-oauthlib>=0.7.0 in /usr/local/lib/python3.10/dist-packages (from google-auth-oauthlib<1.1,>=0.5->tensorboard<2.14,>=2.13->tensorflow) (1.3.1)\n",
                        "Requirement already satisfied: charset-normalizer<4,>=2 in /usr/local/lib/python3.10/dist-packages (from requests<3,>=2.21.0->tensorboard<2.14,>=2.13->tensorflow) (3.3.0)\n",
                        "Requirement already satisfied: idna<4,>=2.5 in /usr/local/lib/python3.10/dist-packages (from requests<3,>=2.21.0->tensorboard<2.14,>=2.13->tensorflow) (3.4)\n",
                        "Requirement already satisfied: urllib3<3,>=1.21.1 in /usr/local/lib/python3.10/dist-packages (from requests<3,>=2.21.0->tensorboard<2.14,>=2.13->tensorflow) (2.0.6)\n",
                        "Requirement already satisfied: certifi>=2017.4.17 in /usr/local/lib/python3.10/dist-packages (from requests<3,>=2.21.0->tensorboard<2.14,>=2.13->tensorflow) (2023.7.22)\n",
                        "Requirement already satisfied: MarkupSafe>=2.1.1 in /usr/local/lib/python3.10/dist-packages (from werkzeug>=1.0.1->tensorboard<2.14,>=2.13->tensorflow) (2.1.3)\n",
                        "Requirement already satisfied: pyasn1<0.6.0,>=0.4.6 in /usr/local/lib/python3.10/dist-packages (from pyasn1-modules>=0.2.1->google-auth<3,>=1.6.3->tensorboard<2.14,>=2.13->tensorflow) (0.5.0)\n",
                        "Requirement already satisfied: oauthlib>=3.0.0 in /usr/local/lib/python3.10/dist-packages (from requests-oauthlib>=0.7.0->google-auth-oauthlib<1.1,>=0.5->tensorboard<2.14,>=2.13->tensorflow) (3.2.2)\n"
                    ]
                }
            ]
        },
        {
            "cell_type": "code",
            "source": [
                "import wandb\n",
                "from wandb.keras import WandbCallback\n",
                "wandb.login()"
            ],
            "metadata": {
                "colab": {
                    "base_uri": "https://localhost:8080/",
                    "height": 69
                },
                "id": "nRYKPN1R50y3",
                "executionInfo": {
                    "status": "ok",
                    "timestamp": 1696862559811,
                    "user_tz": 360,
                    "elapsed": 13240,
                    "user": {
                        "displayName": "",
                        "userId": ""
                    }
                },
                "outputId": "f37be505-0377-494f-cea5-2aaaf8afda25"
            },
            "execution_count": null,
            "outputs": [
                {
                    "output_type": "display_data",
                    "data": {
                        "text/plain": [
                            "<IPython.core.display.Javascript object>"
                        ],
                        "application/javascript": [
                            "\n",
                            "        window._wandbApiKey = new Promise((resolve, reject) => {\n",
                            "            function loadScript(url) {\n",
                            "            return new Promise(function(resolve, reject) {\n",
                            "                let newScript = document.createElement(\"script\");\n",
                            "                newScript.onerror = reject;\n",
                            "                newScript.onload = resolve;\n",
                            "                document.body.appendChild(newScript);\n",
                            "                newScript.src = url;\n",
                            "            });\n",
                            "            }\n",
                            "            loadScript(\"https://cdn.jsdelivr.net/npm/postmate/build/postmate.min.js\").then(() => {\n",
                            "            const iframe = document.createElement('iframe')\n",
                            "            iframe.style.cssText = \"width:0;height:0;border:none\"\n",
                            "            document.body.appendChild(iframe)\n",
                            "            const handshake = new Postmate({\n",
                            "                container: iframe,\n",
                            "                url: 'https://wandb.ai/authorize'\n",
                            "            });\n",
                            "            const timeout = setTimeout(() => reject(\"Couldn't auto authenticate\"), 5000)\n",
                            "            handshake.then(function(child) {\n",
                            "                child.on('authorize', data => {\n",
                            "                    clearTimeout(timeout)\n",
                            "                    resolve(data)\n",
                            "                });\n",
                            "            });\n",
                            "            })\n",
                            "        });\n",
                            "    "
                        ]
                    },
                    "metadata": {}
                },
                {
                    "output_type": "stream",
                    "name": "stderr",
                    "text": [
                        "\u001b[34m\u001b[1mwandb\u001b[0m: Appending key for api.wandb.ai to your netrc file: /root/.netrc\n"
                    ]
                },
                {
                    "output_type": "execute_result",
                    "data": {
                        "text/plain": [
                            "True"
                        ]
                    },
                    "metadata": {},
                    "execution_count": 14
                }
            ]
        },
        {
            "cell_type": "code",
            "source": [
                "import tensorflow as tf\n",
                "from tensorflow import keras\n",
                "from tensorflow.keras.models import Sequential\n",
                "from tensorflow.keras.layers import Dense,Conv2D, Dropout, Activation, MaxPooling2D, Flatten, BatchNormalization\n",
                "from tensorflow.keras.optimizers import RMSprop, Adam\n",
                "from tensorflow.keras import regularizers\n",
                "from tensorflow.keras.preprocessing.image import ImageDataGenerator\n",
                "from tensorflow.keras.preprocessing import image\n",
                "from keras.callbacks import ModelCheckpoint, EarlyStopping\n"
            ],
            "metadata": {
                "id": "zQcxDMMj50d7"
            },
            "execution_count": null,
            "outputs": []
        },
        {
            "cell_type": "markdown",
            "source": [
                "### Se descomprimen los datos para evitar errores m\u00e1s adelante, es decir, que no train_dar (el directorio de entrenamiento) no esta bien definido"
            ],
            "metadata": {
                "id": "4rfF3n1mdwT7"
            }
        },
        {
            "cell_type": "code",
            "source": [
                "import zipfile\n",
                "data='data'\n",
                "with zipfile.ZipFile('DogsCats.zip', 'r') as zip_ref:\n",
                "    zip_ref.extractall(data)"
            ],
            "metadata": {
                "id": "eVlNrI9leh1I"
            },
            "execution_count": null,
            "outputs": []
        },
        {
            "cell_type": "code",
            "source": [
                "ih, iw = 150, 150 #tamano de la imagen\n",
                "input_shape = (ih, iw, 3) #forma de la imagen: alto ancho y numero de canales\n",
                "train_dir = 'data/train' #directorio de entrenamiento\n",
                "test_dir = 'data/test' #directorio de prueba"
            ],
            "metadata": {
                "id": "hq7cHWjX7mwC"
            },
            "execution_count": null,
            "outputs": []
        },
        {
            "cell_type": "code",
            "source": [
                "num_class = 2 #cuantas clases\n",
                "epochs = 10 #cuantas veces entrenar. En cada epoch hace una mejora en los parametros\n",
                "batch_size = 50 #batch para hacer cada entrenamiento. Lee 50 'batch_size' imagenes antes de actualizar los parametros. Las carga a memoria\n",
                "num_train = 2000 #numero de imagenes en train\n",
                "num_test = 1000 #numero de imagenes en test"
            ],
            "metadata": {
                "id": "sPt2TMQe7mst"
            },
            "execution_count": null,
            "outputs": []
        },
        {
            "cell_type": "code",
            "source": [
                "epoch_steps = num_train // batch_size\n",
                "test_steps = num_test // batch_size"
            ],
            "metadata": {
                "id": "qyg9QguF7mqd"
            },
            "execution_count": null,
            "outputs": []
        },
        {
            "cell_type": "code",
            "source": [
                "gentrain = ImageDataGenerator(rescale=1. / 255.)\n",
                "\n",
                "train = gentrain.flow_from_directory(train_dir,\n",
                "                batch_size=batch_size,\n",
                "                target_size=(iw, ih), #Todos los archivos de imagen se redimensionar\u00e1n al tama\u00f1o de (iw, ih)\n",
                "                class_mode='binary')"
            ],
            "metadata": {
                "colab": {
                    "base_uri": "https://localhost:8080/"
                },
                "id": "unErLWrH7mjf",
                "executionInfo": {
                    "status": "ok",
                    "timestamp": 1696862569467,
                    "user_tz": 360,
                    "elapsed": 776,
                    "user": {
                        "displayName": "",
                        "userId": ""
                    }
                },
                "outputId": "81b22658-fa55-46b2-c57c-052da9eb594a"
            },
            "execution_count": null,
            "outputs": [
                {
                    "output_type": "stream",
                    "name": "stdout",
                    "text": [
                        "Found 20000 images belonging to 2 classes.\n"
                    ]
                }
            ]
        },
        {
            "cell_type": "code",
            "source": [
                "gentest = ImageDataGenerator(rescale=1. / 255\n",
                "                             )"
            ],
            "metadata": {
                "id": "XrwU6ipa7mcG"
            },
            "execution_count": null,
            "outputs": []
        },
        {
            "cell_type": "code",
            "source": [
                "test = gentest.flow_from_directory(test_dir,\n",
                "                batch_size=batch_size,\n",
                "                target_size=(iw, ih),\n",
                "                class_mode='binary')"
            ],
            "metadata": {
                "colab": {
                    "base_uri": "https://localhost:8080/"
                },
                "id": "SwgpYren7mYn",
                "executionInfo": {
                    "status": "ok",
                    "timestamp": 1696862569695,
                    "user_tz": 360,
                    "elapsed": 234,
                    "user": {
                        "displayName": "",
                        "userId": ""
                    }
                },
                "outputId": "ade951d8-d7fc-4dc0-ba96-f1618f10d005"
            },
            "execution_count": null,
            "outputs": [
                {
                    "output_type": "stream",
                    "name": "stdout",
                    "text": [
                        "Found 5000 images belonging to 2 classes.\n"
                    ]
                }
            ]
        },
        {
            "cell_type": "code",
            "source": [],
            "metadata": {
                "id": "LCex3YEF1QRu"
            },
            "execution_count": null,
            "outputs": []
        },
        {
            "cell_type": "code",
            "source": [
                "model = Sequential()\n",
                "model.add(Conv2D(20, (3, 3), kernel_regularizer=regularizers.L1L2(l1=0.01, l2=0.01),input_shape=(ih, iw,3)))\n",
                "model.add(Activation('relu'))\n",
                "model.add(MaxPooling2D(pool_size=(2, 2)))\n",
                "model.add(BatchNormalization())\n",
                "\n",
                "\n",
                "model.add(Conv2D(20, (3, 3), kernel_regularizer=regularizers.L1L2(l1=0.0001, l2=0.0001)))\n",
                "model.add(Activation('relu'))\n",
                "model.add(MaxPooling2D(pool_size=(2, 2)))\n",
                "\n",
                "model.add(Conv2D(30, (2, 2)))\n",
                "model.add(Activation('relu'))\n",
                "model.add(MaxPooling2D(pool_size=(2, 2)))\n",
                "\n",
                "model.add(Flatten())\n",
                "model.add(Dense(64))\n",
                "model.add(Activation('relu'))\n",
                "model.add(Dropout(0.2))\n",
                "model.add(Dense(1))\n",
                "model.add(Activation('sigmoid'))\n",
                "#model.summary()\n",
                "\n",
                "\n",
                "model.compile(loss='binary_crossentropy', optimizer=RMSprop(), metrics=['accuracy'])\n",
                "wandb.init(project=\"Dogs-cats\")\n",
                "wandb.config.learning_rate = 0.0002\n",
                "wandb.config.epochs = 50\n",
                "wandb.config.batch_size = batch_size\n",
                "\n",
                "#import wandb\n",
                "\n",
                "history = model.fit(\n",
                "                train,\n",
                "                steps_per_epoch=epoch_steps,\n",
                "                epochs=50,\n",
                "                validation_data=test,\n",
                "                validation_steps=test_steps,\n",
                "                callbacks= [WandbCallback()])"
            ],
            "metadata": {
                "colab": {
                    "base_uri": "https://localhost:8080/",
                    "height": 1000,
                    "referenced_widgets": [
                        "29e3399dce024ee68593a963e6c30d62",
                        "0680d0e00736408191f2b9877619b08f",
                        "a149a4352c1e4adcb7bb555ae11ad5fd",
                        "89f79af14b3a46bcb3a386f480e694ac",
                        "50b16a92570c4621ad3a976dd32eeee5",
                        "dafb304bc9d2448193dd684c78c87aca",
                        "413b7f9da24044689e7cb864742ec4ac",
                        "5c46b08907014105af27e26a02a71f3c"
                    ]
                },
                "id": "AWAhjnMbxWi1",
                "executionInfo": {
                    "status": "ok",
                    "timestamp": 1696866457979,
                    "user_tz": 360,
                    "elapsed": 1,
                    "user": {
                        "displayName": "",
                        "userId": ""
                    }
                },
                "outputId": "e99fc81b-18de-4ab3-842c-23e4f7ecfbd4"
            },
            "execution_count": null,
            "outputs": [
                {
                    "data": {
                        "text/html": [
                            "Finishing last run (ID:l0grw8du) before initializing another..."
                        ],
                        "text/plain": [
                            "<IPython.core.display.HTML object>"
                        ]
                    },
                    "metadata": {},
                    "output_type": "display_data"
                },
                {
                    "data": {
                        "text/html": [
                            "Waiting for W&B process to finish... <strong style=\"color:green\">(success).</strong>"
                        ],
                        "text/plain": [
                            "<IPython.core.display.HTML object>"
                        ]
                    },
                    "metadata": {},
                    "output_type": "display_data"
                },
                {
                    "data": {
                        "application/vnd.jupyter.widget-view+json": {
                            "model_id": "29e3399dce024ee68593a963e6c30d62",
                            "version_major": 2,
                            "version_minor": 0
                        },
                        "text/plain": [
                            "VBox(children=(Label(value='104.467 MB of 104.467 MB uploaded (0.563 MB deduped)\\r'), FloatProgress(value=1.0,\u2026"
                        ]
                    },
                    "metadata": {},
                    "output_type": "display_data"
                },
                {
                    "data": {
                        "text/html": [
                            "<style>\n",
                            "    table.wandb td:nth-child(1) { padding: 0 10px; text-align: left ; width: auto;} td:nth-child(2) {text-align: left ; width: 100%}\n",
                            "    .wandb-row { display: flex; flex-direction: row; flex-wrap: wrap; justify-content: flex-start; width: 100% }\n",
                            "    .wandb-col { display: flex; flex-direction: column; flex-basis: 100%; flex: 1; padding: 10px; }\n",
                            "    </style>\n",
                            "<div class=\"wandb-row\"><div class=\"wandb-col\"><h3>Run history:</h3><br/><table class=\"wandb\"><tr><td>accuracy</td><td>\u2581\u2582\u2584\u2584\u2585\u2585\u2585\u2585\u2586\u2586\u2586\u2586\u2586\u2586\u2586\u2586\u2586\u2587\u2586\u2587\u2587\u2587\u2587\u2587\u2587\u2587\u2587\u2587\u2587\u2587\u2587\u2587\u2588\u2588\u2588\u2588\u2588\u2588\u2588\u2588</td></tr><tr><td>epoch</td><td>\u2581\u2581\u2581\u2581\u2582\u2582\u2582\u2582\u2582\u2583\u2583\u2583\u2583\u2583\u2583\u2584\u2584\u2584\u2584\u2584\u2585\u2585\u2585\u2585\u2585\u2585\u2586\u2586\u2586\u2586\u2586\u2586\u2587\u2587\u2587\u2587\u2587\u2588\u2588\u2588</td></tr><tr><td>loss</td><td>\u2588\u2585\u2584\u2584\u2583\u2583\u2583\u2583\u2583\u2583\u2583\u2583\u2583\u2582\u2582\u2582\u2582\u2582\u2582\u2582\u2582\u2582\u2582\u2582\u2582\u2582\u2582\u2582\u2582\u2581\u2581\u2582\u2581\u2581\u2581\u2581\u2581\u2581\u2581\u2581</td></tr><tr><td>val_accuracy</td><td>\u2583\u2582\u2581\u2585\u2585\u2584\u2584\u2585\u2587\u2585\u2587\u2586\u2585\u2587\u2584\u2587\u2587\u2587\u2587\u2587\u2587\u2586\u2586\u2587\u2587\u2586\u2588\u2587\u2586\u2587\u2587\u2585\u2588\u2588\u2587\u2587\u2588\u2588\u2588\u2587</td></tr><tr><td>val_loss</td><td>\u2588\u2587\u2586\u2585\u2584\u2584\u2584\u2584\u2583\u2583\u2583\u2583\u2584\u2582\u2583\u2582\u2582\u2582\u2582\u2582\u2582\u2582\u2583\u2582\u2582\u2583\u2581\u2582\u2582\u2581\u2582\u2583\u2581\u2581\u2582\u2581\u2581\u2582\u2582\u2582</td></tr></table><br/></div><div class=\"wandb-col\"><h3>Run summary:</h3><br/><table class=\"wandb\"><tr><td>accuracy</td><td>0.8775</td></tr><tr><td>best_epoch</td><td>45</td></tr><tr><td>best_val_loss</td><td>0.51664</td></tr><tr><td>epoch</td><td>49</td></tr><tr><td>loss</td><td>0.35871</td></tr><tr><td>val_accuracy</td><td>0.783</td></tr><tr><td>val_loss</td><td>0.56987</td></tr></table><br/></div></div>"
                        ],
                        "text/plain": [
                            "<IPython.core.display.HTML object>"
                        ]
                    },
                    "metadata": {},
                    "output_type": "display_data"
                },
                {
                    "data": {
                        "text/html": [
                            " View run <strong style=\"color:#cdcd00\">rich-fog-31</strong> at: <a href='https://wandb.ai/jeryrangmart/Dogs-cats/runs/l0grw8du' target=\"_blank\">https://wandb.ai/jeryrangmart/Dogs-cats/runs/l0grw8du</a><br/>Synced 5 W&B file(s), 1 media file(s), 110 artifact file(s) and 1 other file(s)"
                        ],
                        "text/plain": [
                            "<IPython.core.display.HTML object>"
                        ]
                    },
                    "metadata": {},
                    "output_type": "display_data"
                },
                {
                    "data": {
                        "text/html": [
                            "Find logs at: <code>./wandb/run-20231009_144248-l0grw8du/logs</code>"
                        ],
                        "text/plain": [
                            "<IPython.core.display.HTML object>"
                        ]
                    },
                    "metadata": {},
                    "output_type": "display_data"
                },
                {
                    "data": {
                        "text/html": [
                            "Successfully finished last run (ID:l0grw8du). Initializing new run:<br/>"
                        ],
                        "text/plain": [
                            "<IPython.core.display.HTML object>"
                        ]
                    },
                    "metadata": {},
                    "output_type": "display_data"
                },
                {
                    "data": {
                        "text/html": [
                            "Tracking run with wandb version 0.15.12"
                        ],
                        "text/plain": [
                            "<IPython.core.display.HTML object>"
                        ]
                    },
                    "metadata": {},
                    "output_type": "display_data"
                },
                {
                    "data": {
                        "text/html": [
                            "Run data is saved locally in <code>/content/Gatos-y-Perros/wandb/run-20231009_151554-7iqosevs</code>"
                        ],
                        "text/plain": [
                            "<IPython.core.display.HTML object>"
                        ]
                    },
                    "metadata": {},
                    "output_type": "display_data"
                },
                {
                    "data": {
                        "text/html": [
                            "Syncing run <strong><a href='https://wandb.ai/jeryrangmart/Dogs-cats/runs/7iqosevs' target=\"_blank\">balmy-dust-32</a></strong> to <a href='https://wandb.ai/jeryrangmart/Dogs-cats' target=\"_blank\">Weights & Biases</a> (<a href='https://wandb.me/run' target=\"_blank\">docs</a>)<br/>"
                        ],
                        "text/plain": [
                            "<IPython.core.display.HTML object>"
                        ]
                    },
                    "metadata": {},
                    "output_type": "display_data"
                },
                {
                    "data": {
                        "text/html": [
                            " View project at <a href='https://wandb.ai/jeryrangmart/Dogs-cats' target=\"_blank\">https://wandb.ai/jeryrangmart/Dogs-cats</a>"
                        ],
                        "text/plain": [
                            "<IPython.core.display.HTML object>"
                        ]
                    },
                    "metadata": {},
                    "output_type": "display_data"
                },
                {
                    "data": {
                        "text/html": [
                            " View run at <a href='https://wandb.ai/jeryrangmart/Dogs-cats/runs/7iqosevs' target=\"_blank\">https://wandb.ai/jeryrangmart/Dogs-cats/runs/7iqosevs</a>"
                        ],
                        "text/plain": [
                            "<IPython.core.display.HTML object>"
                        ]
                    },
                    "metadata": {},
                    "output_type": "display_data"
                },
                {
                    "metadata": {
                        "tags": null
                    },
                    "name": "stdout",
                    "output_type": "stream",
                    "text": [
                        "Epoch 1/50\n",
                        "40/40 [==============================] - ETA: 0s - loss: 1.3612 - accuracy: 0.5735"
                    ]
                },
                {
                    "metadata": {
                        "tags": null
                    },
                    "name": "stderr",
                    "output_type": "stream",
                    "text": [
                        "/usr/local/lib/python3.10/dist-packages/keras/src/engine/training.py:3000: UserWarning: You are saving your model as an HDF5 file via `model.save()`. This file format is considered legacy. We recommend using instead the native Keras format, e.g. `model.save('my_model.keras')`.\n",
                        "  saving_api.save_model(\n",
                        "\u001b[34m\u001b[1mwandb\u001b[0m: Adding directory to artifact (/content/Gatos-y-Perros/wandb/run-20231009_151554-7iqosevs/files/model-best)... Done. 0.0s\n"
                    ]
                },
                {
                    "metadata": {
                        "tags": null
                    },
                    "name": "stdout",
                    "output_type": "stream",
                    "text": [
                        "40/40 [==============================] - 42s 1s/step - loss: 1.3612 - accuracy: 0.5735 - val_loss: 1.1246 - val_accuracy: 0.5190\n",
                        "Epoch 2/50\n",
                        "40/40 [==============================] - ETA: 0s - loss: 1.0303 - accuracy: 0.6260"
                    ]
                },
                {
                    "metadata": {
                        "tags": null
                    },
                    "name": "stderr",
                    "output_type": "stream",
                    "text": [
                        "/usr/local/lib/python3.10/dist-packages/keras/src/engine/training.py:3000: UserWarning: You are saving your model as an HDF5 file via `model.save()`. This file format is considered legacy. We recommend using instead the native Keras format, e.g. `model.save('my_model.keras')`.\n",
                        "  saving_api.save_model(\n",
                        "\u001b[34m\u001b[1mwandb\u001b[0m: Adding directory to artifact (/content/Gatos-y-Perros/wandb/run-20231009_151554-7iqosevs/files/model-best)... Done. 0.0s\n"
                    ]
                },
                {
                    "metadata": {
                        "tags": null
                    },
                    "name": "stdout",
                    "output_type": "stream",
                    "text": [
                        "40/40 [==============================] - 33s 816ms/step - loss: 1.0303 - accuracy: 0.6260 - val_loss: 1.0285 - val_accuracy: 0.6360\n",
                        "Epoch 3/50\n",
                        "40/40 [==============================] - ETA: 0s - loss: 0.9351 - accuracy: 0.6545"
                    ]
                },
                {
                    "metadata": {
                        "tags": null
                    },
                    "name": "stderr",
                    "output_type": "stream",
                    "text": [
                        "/usr/local/lib/python3.10/dist-packages/keras/src/engine/training.py:3000: UserWarning: You are saving your model as an HDF5 file via `model.save()`. This file format is considered legacy. We recommend using instead the native Keras format, e.g. `model.save('my_model.keras')`.\n",
                        "  saving_api.save_model(\n",
                        "\u001b[34m\u001b[1mwandb\u001b[0m: Adding directory to artifact (/content/Gatos-y-Perros/wandb/run-20231009_151554-7iqosevs/files/model-best)... Done. 0.0s\n"
                    ]
                },
                {
                    "metadata": {
                        "tags": null
                    },
                    "name": "stdout",
                    "output_type": "stream",
                    "text": [
                        "40/40 [==============================] - 34s 863ms/step - loss: 0.9351 - accuracy: 0.6545 - val_loss: 0.9727 - val_accuracy: 0.6660\n",
                        "Epoch 4/50\n",
                        "40/40 [==============================] - ETA: 0s - loss: 0.8669 - accuracy: 0.6850"
                    ]
                },
                {
                    "metadata": {
                        "tags": null
                    },
                    "name": "stderr",
                    "output_type": "stream",
                    "text": [
                        "/usr/local/lib/python3.10/dist-packages/keras/src/engine/training.py:3000: UserWarning: You are saving your model as an HDF5 file via `model.save()`. This file format is considered legacy. We recommend using instead the native Keras format, e.g. `model.save('my_model.keras')`.\n",
                        "  saving_api.save_model(\n",
                        "\u001b[34m\u001b[1mwandb\u001b[0m: Adding directory to artifact (/content/Gatos-y-Perros/wandb/run-20231009_151554-7iqosevs/files/model-best)... Done. 0.0s\n"
                    ]
                },
                {
                    "metadata": {
                        "tags": null
                    },
                    "name": "stdout",
                    "output_type": "stream",
                    "text": [
                        "40/40 [==============================] - 34s 861ms/step - loss: 0.8669 - accuracy: 0.6850 - val_loss: 0.9418 - val_accuracy: 0.6680\n",
                        "Epoch 5/50\n",
                        "40/40 [==============================] - ETA: 0s - loss: 0.8145 - accuracy: 0.6965"
                    ]
                },
                {
                    "metadata": {
                        "tags": null
                    },
                    "name": "stderr",
                    "output_type": "stream",
                    "text": [
                        "/usr/local/lib/python3.10/dist-packages/keras/src/engine/training.py:3000: UserWarning: You are saving your model as an HDF5 file via `model.save()`. This file format is considered legacy. We recommend using instead the native Keras format, e.g. `model.save('my_model.keras')`.\n",
                        "  saving_api.save_model(\n",
                        "\u001b[34m\u001b[1mwandb\u001b[0m: Adding directory to artifact (/content/Gatos-y-Perros/wandb/run-20231009_151554-7iqosevs/files/model-best)... Done. 0.0s\n"
                    ]
                },
                {
                    "metadata": {
                        "tags": null
                    },
                    "name": "stdout",
                    "output_type": "stream",
                    "text": [
                        "40/40 [==============================] - 33s 825ms/step - loss: 0.8145 - accuracy: 0.6965 - val_loss: 0.9137 - val_accuracy: 0.6320\n",
                        "Epoch 6/50\n",
                        "40/40 [==============================] - ETA: 0s - loss: 0.7981 - accuracy: 0.7180"
                    ]
                },
                {
                    "metadata": {
                        "tags": null
                    },
                    "name": "stderr",
                    "output_type": "stream",
                    "text": [
                        "/usr/local/lib/python3.10/dist-packages/keras/src/engine/training.py:3000: UserWarning: You are saving your model as an HDF5 file via `model.save()`. This file format is considered legacy. We recommend using instead the native Keras format, e.g. `model.save('my_model.keras')`.\n",
                        "  saving_api.save_model(\n",
                        "\u001b[34m\u001b[1mwandb\u001b[0m: Adding directory to artifact (/content/Gatos-y-Perros/wandb/run-20231009_151554-7iqosevs/files/model-best)... Done. 0.0s\n"
                    ]
                },
                {
                    "metadata": {
                        "tags": null
                    },
                    "name": "stdout",
                    "output_type": "stream",
                    "text": [
                        "40/40 [==============================] - 34s 839ms/step - loss: 0.7981 - accuracy: 0.7180 - val_loss: 0.8660 - val_accuracy: 0.6940\n",
                        "Epoch 7/50\n",
                        "40/40 [==============================] - ETA: 0s - loss: 0.7657 - accuracy: 0.7375"
                    ]
                },
                {
                    "metadata": {
                        "tags": null
                    },
                    "name": "stderr",
                    "output_type": "stream",
                    "text": [
                        "/usr/local/lib/python3.10/dist-packages/keras/src/engine/training.py:3000: UserWarning: You are saving your model as an HDF5 file via `model.save()`. This file format is considered legacy. We recommend using instead the native Keras format, e.g. `model.save('my_model.keras')`.\n",
                        "  saving_api.save_model(\n",
                        "\u001b[34m\u001b[1mwandb\u001b[0m: Adding directory to artifact (/content/Gatos-y-Perros/wandb/run-20231009_151554-7iqosevs/files/model-best)... Done. 0.0s\n"
                    ]
                },
                {
                    "metadata": {
                        "tags": null
                    },
                    "name": "stdout",
                    "output_type": "stream",
                    "text": [
                        "40/40 [==============================] - 33s 822ms/step - loss: 0.7657 - accuracy: 0.7375 - val_loss: 0.8431 - val_accuracy: 0.6700\n",
                        "Epoch 8/50\n",
                        "40/40 [==============================] - ETA: 0s - loss: 0.7367 - accuracy: 0.7435"
                    ]
                },
                {
                    "metadata": {
                        "tags": null
                    },
                    "name": "stderr",
                    "output_type": "stream",
                    "text": [
                        "/usr/local/lib/python3.10/dist-packages/keras/src/engine/training.py:3000: UserWarning: You are saving your model as an HDF5 file via `model.save()`. This file format is considered legacy. We recommend using instead the native Keras format, e.g. `model.save('my_model.keras')`.\n",
                        "  saving_api.save_model(\n",
                        "\u001b[34m\u001b[1mwandb\u001b[0m: Adding directory to artifact (/content/Gatos-y-Perros/wandb/run-20231009_151554-7iqosevs/files/model-best)... Done. 0.0s\n"
                    ]
                },
                {
                    "metadata": {
                        "tags": null
                    },
                    "name": "stdout",
                    "output_type": "stream",
                    "text": [
                        "40/40 [==============================] - 34s 860ms/step - loss: 0.7367 - accuracy: 0.7435 - val_loss: 0.8380 - val_accuracy: 0.6820\n",
                        "Epoch 9/50\n",
                        "40/40 [==============================] - ETA: 0s - loss: 0.7199 - accuracy: 0.7430"
                    ]
                },
                {
                    "metadata": {
                        "tags": null
                    },
                    "name": "stderr",
                    "output_type": "stream",
                    "text": [
                        "/usr/local/lib/python3.10/dist-packages/keras/src/engine/training.py:3000: UserWarning: You are saving your model as an HDF5 file via `model.save()`. This file format is considered legacy. We recommend using instead the native Keras format, e.g. `model.save('my_model.keras')`.\n",
                        "  saving_api.save_model(\n",
                        "\u001b[34m\u001b[1mwandb\u001b[0m: Adding directory to artifact (/content/Gatos-y-Perros/wandb/run-20231009_151554-7iqosevs/files/model-best)... Done. 0.0s\n"
                    ]
                },
                {
                    "metadata": {
                        "tags": null
                    },
                    "name": "stdout",
                    "output_type": "stream",
                    "text": [
                        "40/40 [==============================] - 37s 931ms/step - loss: 0.7199 - accuracy: 0.7430 - val_loss: 0.7980 - val_accuracy: 0.7210\n",
                        "Epoch 10/50\n",
                        "40/40 [==============================] - 32s 785ms/step - loss: 0.6894 - accuracy: 0.7430 - val_loss: 0.8108 - val_accuracy: 0.6420\n",
                        "Epoch 11/50\n",
                        "40/40 [==============================] - ETA: 0s - loss: 0.6746 - accuracy: 0.7575"
                    ]
                },
                {
                    "metadata": {
                        "tags": null
                    },
                    "name": "stderr",
                    "output_type": "stream",
                    "text": [
                        "/usr/local/lib/python3.10/dist-packages/keras/src/engine/training.py:3000: UserWarning: You are saving your model as an HDF5 file via `model.save()`. This file format is considered legacy. We recommend using instead the native Keras format, e.g. `model.save('my_model.keras')`.\n",
                        "  saving_api.save_model(\n",
                        "\u001b[34m\u001b[1mwandb\u001b[0m: Adding directory to artifact (/content/Gatos-y-Perros/wandb/run-20231009_151554-7iqosevs/files/model-best)... Done. 0.0s\n"
                    ]
                },
                {
                    "metadata": {
                        "tags": null
                    },
                    "name": "stdout",
                    "output_type": "stream",
                    "text": [
                        "40/40 [==============================] - 38s 954ms/step - loss: 0.6746 - accuracy: 0.7575 - val_loss: 0.7633 - val_accuracy: 0.7320\n",
                        "Epoch 12/50\n",
                        "40/40 [==============================] - ETA: 0s - loss: 0.6873 - accuracy: 0.7530"
                    ]
                },
                {
                    "metadata": {
                        "tags": null
                    },
                    "name": "stderr",
                    "output_type": "stream",
                    "text": [
                        "/usr/local/lib/python3.10/dist-packages/keras/src/engine/training.py:3000: UserWarning: You are saving your model as an HDF5 file via `model.save()`. This file format is considered legacy. We recommend using instead the native Keras format, e.g. `model.save('my_model.keras')`.\n",
                        "  saving_api.save_model(\n",
                        "\u001b[34m\u001b[1mwandb\u001b[0m: Adding directory to artifact (/content/Gatos-y-Perros/wandb/run-20231009_151554-7iqosevs/files/model-best)... Done. 0.0s\n"
                    ]
                },
                {
                    "metadata": {
                        "tags": null
                    },
                    "name": "stdout",
                    "output_type": "stream",
                    "text": [
                        "40/40 [==============================] - 33s 833ms/step - loss: 0.6873 - accuracy: 0.7530 - val_loss: 0.7464 - val_accuracy: 0.7130\n",
                        "Epoch 13/50\n",
                        "40/40 [==============================] - ETA: 0s - loss: 0.6692 - accuracy: 0.7605"
                    ]
                },
                {
                    "metadata": {
                        "tags": null
                    },
                    "name": "stderr",
                    "output_type": "stream",
                    "text": [
                        "/usr/local/lib/python3.10/dist-packages/keras/src/engine/training.py:3000: UserWarning: You are saving your model as an HDF5 file via `model.save()`. This file format is considered legacy. We recommend using instead the native Keras format, e.g. `model.save('my_model.keras')`.\n",
                        "  saving_api.save_model(\n",
                        "\u001b[34m\u001b[1mwandb\u001b[0m: Adding directory to artifact (/content/Gatos-y-Perros/wandb/run-20231009_151554-7iqosevs/files/model-best)... Done. 0.0s\n"
                    ]
                },
                {
                    "metadata": {
                        "tags": null
                    },
                    "name": "stdout",
                    "output_type": "stream",
                    "text": [
                        "40/40 [==============================] - 33s 832ms/step - loss: 0.6692 - accuracy: 0.7605 - val_loss: 0.7393 - val_accuracy: 0.7190\n",
                        "Epoch 14/50\n",
                        "40/40 [==============================] - ETA: 0s - loss: 0.6234 - accuracy: 0.7790"
                    ]
                },
                {
                    "metadata": {
                        "tags": null
                    },
                    "name": "stderr",
                    "output_type": "stream",
                    "text": [
                        "/usr/local/lib/python3.10/dist-packages/keras/src/engine/training.py:3000: UserWarning: You are saving your model as an HDF5 file via `model.save()`. This file format is considered legacy. We recommend using instead the native Keras format, e.g. `model.save('my_model.keras')`.\n",
                        "  saving_api.save_model(\n",
                        "\u001b[34m\u001b[1mwandb\u001b[0m: Adding directory to artifact (/content/Gatos-y-Perros/wandb/run-20231009_151554-7iqosevs/files/model-best)... Done. 0.0s\n"
                    ]
                },
                {
                    "metadata": {
                        "tags": null
                    },
                    "name": "stdout",
                    "output_type": "stream",
                    "text": [
                        "40/40 [==============================] - 34s 849ms/step - loss: 0.6234 - accuracy: 0.7790 - val_loss: 0.6803 - val_accuracy: 0.7520\n",
                        "Epoch 15/50\n",
                        "40/40 [==============================] - 32s 801ms/step - loss: 0.6352 - accuracy: 0.7790 - val_loss: 0.8839 - val_accuracy: 0.5760\n",
                        "Epoch 16/50\n",
                        "40/40 [==============================] - 31s 781ms/step - loss: 0.6017 - accuracy: 0.7840 - val_loss: 0.6812 - val_accuracy: 0.7290\n",
                        "Epoch 17/50\n",
                        "40/40 [==============================] - 37s 929ms/step - loss: 0.6030 - accuracy: 0.7925 - val_loss: 0.6808 - val_accuracy: 0.7510\n",
                        "Epoch 18/50\n",
                        "40/40 [==============================] - 37s 926ms/step - loss: 0.5917 - accuracy: 0.7840 - val_loss: 0.8724 - val_accuracy: 0.5960\n",
                        "Epoch 19/50\n",
                        "40/40 [==============================] - ETA: 0s - loss: 0.5751 - accuracy: 0.8025"
                    ]
                },
                {
                    "metadata": {
                        "tags": null
                    },
                    "name": "stderr",
                    "output_type": "stream",
                    "text": [
                        "/usr/local/lib/python3.10/dist-packages/keras/src/engine/training.py:3000: UserWarning: You are saving your model as an HDF5 file via `model.save()`. This file format is considered legacy. We recommend using instead the native Keras format, e.g. `model.save('my_model.keras')`.\n",
                        "  saving_api.save_model(\n",
                        "\u001b[34m\u001b[1mwandb\u001b[0m: Adding directory to artifact (/content/Gatos-y-Perros/wandb/run-20231009_151554-7iqosevs/files/model-best)... Done. 0.0s\n"
                    ]
                },
                {
                    "metadata": {
                        "tags": null
                    },
                    "name": "stdout",
                    "output_type": "stream",
                    "text": [
                        "40/40 [==============================] - 32s 812ms/step - loss: 0.5751 - accuracy: 0.8025 - val_loss: 0.6333 - val_accuracy: 0.7620\n",
                        "Epoch 20/50\n",
                        "40/40 [==============================] - ETA: 0s - loss: 0.5613 - accuracy: 0.8055"
                    ]
                },
                {
                    "metadata": {
                        "tags": null
                    },
                    "name": "stderr",
                    "output_type": "stream",
                    "text": [
                        "/usr/local/lib/python3.10/dist-packages/keras/src/engine/training.py:3000: UserWarning: You are saving your model as an HDF5 file via `model.save()`. This file format is considered legacy. We recommend using instead the native Keras format, e.g. `model.save('my_model.keras')`.\n",
                        "  saving_api.save_model(\n",
                        "\u001b[34m\u001b[1mwandb\u001b[0m: Adding directory to artifact (/content/Gatos-y-Perros/wandb/run-20231009_151554-7iqosevs/files/model-best)... Done. 0.0s\n"
                    ]
                },
                {
                    "metadata": {
                        "tags": null
                    },
                    "name": "stdout",
                    "output_type": "stream",
                    "text": [
                        "40/40 [==============================] - 39s 967ms/step - loss: 0.5613 - accuracy: 0.8055 - val_loss: 0.6069 - val_accuracy: 0.7560\n",
                        "Epoch 21/50\n",
                        "40/40 [==============================] - 32s 796ms/step - loss: 0.5614 - accuracy: 0.8030 - val_loss: 0.6265 - val_accuracy: 0.7360\n",
                        "Epoch 22/50\n",
                        "40/40 [==============================] - 37s 912ms/step - loss: 0.5480 - accuracy: 0.8130 - val_loss: 0.7798 - val_accuracy: 0.6980\n",
                        "Epoch 23/50\n",
                        "40/40 [==============================] - 37s 916ms/step - loss: 0.5378 - accuracy: 0.8045 - val_loss: 0.7179 - val_accuracy: 0.7370\n",
                        "Epoch 24/50\n",
                        "40/40 [==============================] - ETA: 0s - loss: 0.5330 - accuracy: 0.8030"
                    ]
                },
                {
                    "metadata": {
                        "tags": null
                    },
                    "name": "stderr",
                    "output_type": "stream",
                    "text": [
                        "/usr/local/lib/python3.10/dist-packages/keras/src/engine/training.py:3000: UserWarning: You are saving your model as an HDF5 file via `model.save()`. This file format is considered legacy. We recommend using instead the native Keras format, e.g. `model.save('my_model.keras')`.\n",
                        "  saving_api.save_model(\n",
                        "\u001b[34m\u001b[1mwandb\u001b[0m: Adding directory to artifact (/content/Gatos-y-Perros/wandb/run-20231009_151554-7iqosevs/files/model-best)... Done. 0.0s\n"
                    ]
                },
                {
                    "metadata": {
                        "tags": null
                    },
                    "name": "stdout",
                    "output_type": "stream",
                    "text": [
                        "40/40 [==============================] - 38s 966ms/step - loss: 0.5330 - accuracy: 0.8030 - val_loss: 0.5626 - val_accuracy: 0.7730\n",
                        "Epoch 25/50\n",
                        "40/40 [==============================] - 32s 807ms/step - loss: 0.5209 - accuracy: 0.8170 - val_loss: 0.9431 - val_accuracy: 0.6570\n",
                        "Epoch 26/50\n",
                        "40/40 [==============================] - 37s 926ms/step - loss: 0.5217 - accuracy: 0.8125 - val_loss: 0.5845 - val_accuracy: 0.7650\n",
                        "Epoch 27/50\n",
                        "40/40 [==============================] - 31s 779ms/step - loss: 0.4697 - accuracy: 0.8290 - val_loss: 1.0527 - val_accuracy: 0.6630\n",
                        "Epoch 28/50\n",
                        "40/40 [==============================] - ETA: 0s - loss: 0.5136 - accuracy: 0.8145"
                    ]
                },
                {
                    "metadata": {
                        "tags": null
                    },
                    "name": "stderr",
                    "output_type": "stream",
                    "text": [
                        "/usr/local/lib/python3.10/dist-packages/keras/src/engine/training.py:3000: UserWarning: You are saving your model as an HDF5 file via `model.save()`. This file format is considered legacy. We recommend using instead the native Keras format, e.g. `model.save('my_model.keras')`.\n",
                        "  saving_api.save_model(\n",
                        "\u001b[34m\u001b[1mwandb\u001b[0m: Adding directory to artifact (/content/Gatos-y-Perros/wandb/run-20231009_151554-7iqosevs/files/model-best)... Done. 0.0s\n"
                    ]
                },
                {
                    "metadata": {
                        "tags": null
                    },
                    "name": "stdout",
                    "output_type": "stream",
                    "text": [
                        "40/40 [==============================] - 32s 812ms/step - loss: 0.5136 - accuracy: 0.8145 - val_loss: 0.5291 - val_accuracy: 0.7980\n",
                        "Epoch 29/50\n",
                        "40/40 [==============================] - 36s 894ms/step - loss: 0.4828 - accuracy: 0.8355 - val_loss: 0.6122 - val_accuracy: 0.7650\n",
                        "Epoch 30/50\n",
                        "40/40 [==============================] - 32s 783ms/step - loss: 0.4963 - accuracy: 0.8115 - val_loss: 1.1729 - val_accuracy: 0.5770\n",
                        "Epoch 31/50\n",
                        "40/40 [==============================] - 37s 910ms/step - loss: 0.5050 - accuracy: 0.8115 - val_loss: 0.5859 - val_accuracy: 0.7580\n",
                        "Epoch 32/50\n",
                        "40/40 [==============================] - 30s 765ms/step - loss: 0.4495 - accuracy: 0.8405 - val_loss: 0.6087 - val_accuracy: 0.7510\n",
                        "Epoch 33/50\n",
                        "40/40 [==============================] - 31s 785ms/step - loss: 0.4578 - accuracy: 0.8395 - val_loss: 0.5502 - val_accuracy: 0.8080\n",
                        "Epoch 34/50\n",
                        "40/40 [==============================] - 30s 763ms/step - loss: 0.4634 - accuracy: 0.8375 - val_loss: 0.8022 - val_accuracy: 0.6840\n",
                        "Epoch 35/50\n",
                        "40/40 [==============================] - 31s 766ms/step - loss: 0.4627 - accuracy: 0.8440 - val_loss: 0.6301 - val_accuracy: 0.7830\n",
                        "Epoch 36/50\n",
                        "40/40 [==============================] - 31s 788ms/step - loss: 0.4353 - accuracy: 0.8450 - val_loss: 0.6455 - val_accuracy: 0.7700\n",
                        "Epoch 37/50\n",
                        "40/40 [==============================] - 31s 774ms/step - loss: 0.4347 - accuracy: 0.8505 - val_loss: 0.6742 - val_accuracy: 0.7130\n",
                        "Epoch 38/50\n",
                        "40/40 [==============================] - 36s 899ms/step - loss: 0.4258 - accuracy: 0.8500 - val_loss: 0.7110 - val_accuracy: 0.7080\n",
                        "Epoch 39/50\n",
                        "40/40 [==============================] - 31s 787ms/step - loss: 0.4269 - accuracy: 0.8505 - val_loss: 0.5457 - val_accuracy: 0.7950\n",
                        "Epoch 40/50\n",
                        "40/40 [==============================] - 31s 785ms/step - loss: 0.4168 - accuracy: 0.8610 - val_loss: 0.7127 - val_accuracy: 0.7480\n",
                        "Epoch 41/50\n",
                        "40/40 [==============================] - 32s 795ms/step - loss: 0.4254 - accuracy: 0.8555 - val_loss: 0.5961 - val_accuracy: 0.7620\n",
                        "Epoch 42/50\n",
                        "40/40 [==============================] - ETA: 0s - loss: 0.4009 - accuracy: 0.8645"
                    ]
                },
                {
                    "metadata": {
                        "tags": null
                    },
                    "name": "stderr",
                    "output_type": "stream",
                    "text": [
                        "/usr/local/lib/python3.10/dist-packages/keras/src/engine/training.py:3000: UserWarning: You are saving your model as an HDF5 file via `model.save()`. This file format is considered legacy. We recommend using instead the native Keras format, e.g. `model.save('my_model.keras')`.\n",
                        "  saving_api.save_model(\n",
                        "\u001b[34m\u001b[1mwandb\u001b[0m: Adding directory to artifact (/content/Gatos-y-Perros/wandb/run-20231009_151554-7iqosevs/files/model-best)... Done. 0.0s\n"
                    ]
                },
                {
                    "metadata": {
                        "tags": null
                    },
                    "name": "stdout",
                    "output_type": "stream",
                    "text": [
                        "40/40 [==============================] - 33s 827ms/step - loss: 0.4009 - accuracy: 0.8645 - val_loss: 0.5285 - val_accuracy: 0.7820\n",
                        "Epoch 43/50\n",
                        "40/40 [==============================] - 31s 776ms/step - loss: 0.4252 - accuracy: 0.8510 - val_loss: 0.5772 - val_accuracy: 0.7550\n",
                        "Epoch 44/50\n",
                        "40/40 [==============================] - 31s 777ms/step - loss: 0.4266 - accuracy: 0.8525 - val_loss: 0.5709 - val_accuracy: 0.7580\n",
                        "Epoch 45/50\n",
                        "40/40 [==============================] - 32s 799ms/step - loss: 0.4238 - accuracy: 0.8490 - val_loss: 0.6107 - val_accuracy: 0.7650\n",
                        "Epoch 46/50\n",
                        "40/40 [==============================] - 32s 799ms/step - loss: 0.3624 - accuracy: 0.8745 - val_loss: 0.7915 - val_accuracy: 0.7280\n",
                        "Epoch 47/50\n",
                        "40/40 [==============================] - 37s 913ms/step - loss: 0.3908 - accuracy: 0.8655 - val_loss: 0.6141 - val_accuracy: 0.7580\n",
                        "Epoch 48/50\n",
                        "40/40 [==============================] - 31s 786ms/step - loss: 0.4037 - accuracy: 0.8630 - val_loss: 0.6813 - val_accuracy: 0.7730\n",
                        "Epoch 49/50\n",
                        "40/40 [==============================] - 31s 786ms/step - loss: 0.3643 - accuracy: 0.8770 - val_loss: 0.6391 - val_accuracy: 0.7680\n",
                        "Epoch 50/50\n",
                        "40/40 [==============================] - 31s 768ms/step - loss: 0.3533 - accuracy: 0.8820 - val_loss: 0.6390 - val_accuracy: 0.7300\n"
                    ]
                }
            ]
        },
        {
            "cell_type": "code",
            "source": [
                "filepath = \"best_model.hdf5\"\n",
                "\n",
                "# initialize the ModelCheckpoint callback\n",
                "checkpoint = ModelCheckpoint(filepath, monitor='val_loss', verbose=1, save_best_only=True, mode='min')"
            ],
            "metadata": {
                "id": "jWuruMsMrsD8"
            },
            "execution_count": null,
            "outputs": []
        },
        {
            "cell_type": "code",
            "source": [
                "!pip install mlflow --quiet"
            ],
            "metadata": {
                "id": "jtE0dJ0eVWCT"
            },
            "execution_count": null,
            "outputs": []
        },
        {
            "cell_type": "code",
            "source": [
                "earlystop = EarlyStopping(monitor='val_loss',mode='min',restore_best_weights=True, patience=10,verbose=1)"
            ],
            "metadata": {
                "id": "9dmf94RarsAn"
            },
            "execution_count": null,
            "outputs": []
        },
        {
            "cell_type": "code",
            "source": [
                "mlflow.set_experiment(experiment_name=\"Experiment 1\")"
            ],
            "metadata": {
                "id": "fR-AkeSmrr-O",
                "colab": {
                    "base_uri": "https://localhost:8080/"
                },
                "executionInfo": {
                    "status": "ok",
                    "timestamp": 1696864524739,
                    "user_tz": 360,
                    "elapsed": 248,
                    "user": {
                        "displayName": "",
                        "userId": ""
                    }
                },
                "outputId": "bbb9a807-f740-4bb5-8264-be8c17f73c1f"
            },
            "execution_count": null,
            "outputs": [
                {
                    "output_type": "execute_result",
                    "data": {
                        "text/plain": [
                            "<Experiment: artifact_location='mlflow-artifacts:/6a7abf312819411e9c0e51a5746d0ec0', creation_time=1696798216935, experiment_id='1', last_update_time=1696798216935, lifecycle_stage='active', name='Experiment 1', tags={}>"
                        ]
                    },
                    "metadata": {},
                    "execution_count": 27
                }
            ]
        },
        {
            "cell_type": "code",
            "source": [],
            "metadata": {
                "id": "W4Ei2NmfVwo7"
            },
            "execution_count": null,
            "outputs": []
        },
        {
            "cell_type": "code",
            "source": [
                "!pip install dagshub"
            ],
            "metadata": {
                "id": "9NBzDUrI7mVx",
                "colab": {
                    "base_uri": "https://localhost:8080/",
                    "height": 1000
                },
                "executionInfo": {
                    "status": "ok",
                    "timestamp": 1696883229550,
                    "user_tz": 360,
                    "elapsed": 13302,
                    "user": {
                        "displayName": "",
                        "userId": ""
                    }
                },
                "outputId": "8b6d35eb-ae64-496c-e9bf-6b635998e639"
            },
            "execution_count": 5,
            "outputs": [
                {
                    "output_type": "stream",
                    "name": "stdout",
                    "text": [
                        "Collecting dagshub\n",
                        "  Downloading dagshub-0.3.8.post1-py3-none-any.whl (182 kB)\n",
                        "\u001b[?25l     \u001b[90m\u2501\u2501\u2501\u2501\u2501\u2501\u2501\u2501\u2501\u2501\u2501\u2501\u2501\u2501\u2501\u2501\u2501\u2501\u2501\u2501\u2501\u2501\u2501\u2501\u2501\u2501\u2501\u2501\u2501\u2501\u2501\u2501\u2501\u2501\u2501\u2501\u2501\u2501\u2501\u2501\u001b[0m \u001b[32m0.0/182.4 kB\u001b[0m \u001b[31m?\u001b[0m eta \u001b[36m-:--:--\u001b[0m\r\u001b[2K     \u001b[91m\u2501\u2501\u2501\u2501\u2501\u2501\u2501\u2501\u2501\u2501\u2501\u2501\u2501\u001b[0m\u001b[90m\u257a\u001b[0m\u001b[90m\u2501\u2501\u2501\u2501\u2501\u2501\u2501\u2501\u2501\u2501\u2501\u2501\u2501\u2501\u2501\u2501\u2501\u2501\u2501\u2501\u2501\u2501\u2501\u2501\u2501\u2501\u001b[0m \u001b[32m61.4/182.4 kB\u001b[0m \u001b[31m1.9 MB/s\u001b[0m eta \u001b[36m0:00:01\u001b[0m\r\u001b[2K     \u001b[90m\u2501\u2501\u2501\u2501\u2501\u2501\u2501\u2501\u2501\u2501\u2501\u2501\u2501\u2501\u2501\u2501\u2501\u2501\u2501\u2501\u2501\u2501\u2501\u2501\u2501\u2501\u2501\u2501\u2501\u2501\u2501\u2501\u2501\u2501\u2501\u2501\u2501\u2501\u2501\u001b[0m \u001b[32m182.4/182.4 kB\u001b[0m \u001b[31m3.4 MB/s\u001b[0m eta \u001b[36m0:00:00\u001b[0m\n",
                        "\u001b[?25hRequirement already satisfied: PyYAML>=5 in /usr/local/lib/python3.10/dist-packages (from dagshub) (6.0.1)\n",
                        "Collecting fusepy>=3 (from dagshub)\n",
                        "  Downloading fusepy-3.0.1.tar.gz (11 kB)\n",
                        "  Preparing metadata (setup.py) ... \u001b[?25l\u001b[?25hdone\n",
                        "Requirement already satisfied: appdirs>=1.4.4 in /usr/local/lib/python3.10/dist-packages (from dagshub) (1.4.4)\n",
                        "Requirement already satisfied: click>=8.0.4 in /usr/local/lib/python3.10/dist-packages (from dagshub) (8.1.7)\n",
                        "Collecting httpx~=0.23.0 (from dagshub)\n",
                        "  Downloading httpx-0.23.3-py3-none-any.whl (71 kB)\n",
                        "\u001b[2K     \u001b[90m\u2501\u2501\u2501\u2501\u2501\u2501\u2501\u2501\u2501\u2501\u2501\u2501\u2501\u2501\u2501\u2501\u2501\u2501\u2501\u2501\u2501\u2501\u2501\u2501\u2501\u2501\u2501\u2501\u2501\u2501\u2501\u2501\u2501\u2501\u2501\u2501\u2501\u2501\u2501\u2501\u001b[0m \u001b[32m71.5/71.5 kB\u001b[0m \u001b[31m7.2 MB/s\u001b[0m eta \u001b[36m0:00:00\u001b[0m\n",
                        "\u001b[?25hRequirement already satisfied: GitPython>=3.1.29 in /usr/local/lib/python3.10/dist-packages (from dagshub) (3.1.37)\n",
                        "Collecting rich[jupyter]~=13.1.0 (from dagshub)\n",
                        "  Downloading rich-13.1.0-py3-none-any.whl (238 kB)\n",
                        "\u001b[2K     \u001b[90m\u2501\u2501\u2501\u2501\u2501\u2501\u2501\u2501\u2501\u2501\u2501\u2501\u2501\u2501\u2501\u2501\u2501\u2501\u2501\u2501\u2501\u2501\u2501\u2501\u2501\u2501\u2501\u2501\u2501\u2501\u2501\u2501\u2501\u2501\u2501\u2501\u2501\u2501\u2501\u001b[0m \u001b[32m238.4/238.4 kB\u001b[0m \u001b[31m7.9 MB/s\u001b[0m eta \u001b[36m0:00:00\u001b[0m\n",
                        "\u001b[?25hCollecting dacite~=1.6.0 (from dagshub)\n",
                        "  Downloading dacite-1.6.0-py3-none-any.whl (12 kB)\n",
                        "Requirement already satisfied: tenacity~=8.2.2 in /usr/local/lib/python3.10/dist-packages (from dagshub) (8.2.3)\n",
                        "Collecting gql[requests] (from dagshub)\n",
                        "  Downloading gql-3.4.1-py2.py3-none-any.whl (65 kB)\n",
                        "\u001b[2K     \u001b[90m\u2501\u2501\u2501\u2501\u2501\u2501\u2501\u2501\u2501\u2501\u2501\u2501\u2501\u2501\u2501\u2501\u2501\u2501\u2501\u2501\u2501\u2501\u2501\u2501\u2501\u2501\u2501\u2501\u2501\u2501\u2501\u2501\u2501\u2501\u2501\u2501\u2501\u2501\u2501\u2501\u001b[0m \u001b[32m65.1/65.1 kB\u001b[0m \u001b[31m8.9 MB/s\u001b[0m eta \u001b[36m0:00:00\u001b[0m\n",
                        "\u001b[?25hCollecting dataclasses-json (from dagshub)\n",
                        "  Downloading dataclasses_json-0.6.1-py3-none-any.whl (27 kB)\n",
                        "Requirement already satisfied: pandas in /usr/local/lib/python3.10/dist-packages (from dagshub) (1.5.3)\n",
                        "Collecting treelib~=1.6.4 (from dagshub)\n",
                        "  Downloading treelib-1.6.4-py3-none-any.whl (18 kB)\n",
                        "Collecting pathvalidate~=3.0.0 (from dagshub)\n",
                        "  Downloading pathvalidate-3.0.0-py3-none-any.whl (21 kB)\n",
                        "Requirement already satisfied: python-dateutil in /usr/local/lib/python3.10/dist-packages (from dagshub) (2.8.2)\n",
                        "Requirement already satisfied: gitdb<5,>=4.0.1 in /usr/local/lib/python3.10/dist-packages (from GitPython>=3.1.29->dagshub) (4.0.10)\n",
                        "Requirement already satisfied: certifi in /usr/local/lib/python3.10/dist-packages (from httpx~=0.23.0->dagshub) (2023.7.22)\n",
                        "Collecting httpcore<0.17.0,>=0.15.0 (from httpx~=0.23.0->dagshub)\n",
                        "  Downloading httpcore-0.16.3-py3-none-any.whl (69 kB)\n",
                        "\u001b[2K     \u001b[90m\u2501\u2501\u2501\u2501\u2501\u2501\u2501\u2501\u2501\u2501\u2501\u2501\u2501\u2501\u2501\u2501\u2501\u2501\u2501\u2501\u2501\u2501\u2501\u2501\u2501\u2501\u2501\u2501\u2501\u2501\u2501\u2501\u2501\u2501\u2501\u2501\u2501\u2501\u2501\u2501\u001b[0m \u001b[32m69.6/69.6 kB\u001b[0m \u001b[31m8.3 MB/s\u001b[0m eta \u001b[36m0:00:00\u001b[0m\n",
                        "\u001b[?25hCollecting rfc3986[idna2008]<2,>=1.3 (from httpx~=0.23.0->dagshub)\n",
                        "  Downloading rfc3986-1.5.0-py2.py3-none-any.whl (31 kB)\n",
                        "Requirement already satisfied: sniffio in /usr/local/lib/python3.10/dist-packages (from httpx~=0.23.0->dagshub) (1.3.0)\n",
                        "Collecting commonmark<0.10.0,>=0.9.0 (from rich[jupyter]~=13.1.0->dagshub)\n",
                        "  Downloading commonmark-0.9.1-py2.py3-none-any.whl (51 kB)\n",
                        "\u001b[2K     \u001b[90m\u2501\u2501\u2501\u2501\u2501\u2501\u2501\u2501\u2501\u2501\u2501\u2501\u2501\u2501\u2501\u2501\u2501\u2501\u2501\u2501\u2501\u2501\u2501\u2501\u2501\u2501\u2501\u2501\u2501\u2501\u2501\u2501\u2501\u2501\u2501\u2501\u2501\u2501\u2501\u2501\u001b[0m \u001b[32m51.1/51.1 kB\u001b[0m \u001b[31m6.8 MB/s\u001b[0m eta \u001b[36m0:00:00\u001b[0m\n",
                        "\u001b[?25hRequirement already satisfied: pygments<3.0.0,>=2.6.0 in /usr/local/lib/python3.10/dist-packages (from rich[jupyter]~=13.1.0->dagshub) (2.16.1)\n",
                        "Requirement already satisfied: ipywidgets<8.0.0,>=7.5.1 in /usr/local/lib/python3.10/dist-packages (from rich[jupyter]~=13.1.0->dagshub) (7.7.1)\n",
                        "Requirement already satisfied: six in /usr/local/lib/python3.10/dist-packages (from treelib~=1.6.4->dagshub) (1.16.0)\n",
                        "Collecting marshmallow<4.0.0,>=3.18.0 (from dataclasses-json->dagshub)\n",
                        "  Downloading marshmallow-3.20.1-py3-none-any.whl (49 kB)\n",
                        "\u001b[2K     \u001b[90m\u2501\u2501\u2501\u2501\u2501\u2501\u2501\u2501\u2501\u2501\u2501\u2501\u2501\u2501\u2501\u2501\u2501\u2501\u2501\u2501\u2501\u2501\u2501\u2501\u2501\u2501\u2501\u2501\u2501\u2501\u2501\u2501\u2501\u2501\u2501\u2501\u2501\u2501\u2501\u2501\u001b[0m \u001b[32m49.4/49.4 kB\u001b[0m \u001b[31m7.3 MB/s\u001b[0m eta \u001b[36m0:00:00\u001b[0m\n",
                        "\u001b[?25hCollecting typing-inspect<1,>=0.4.0 (from dataclasses-json->dagshub)\n",
                        "  Downloading typing_inspect-0.9.0-py3-none-any.whl (8.8 kB)\n",
                        "Collecting graphql-core<3.3,>=3.2 (from gql[requests]->dagshub)\n",
                        "  Downloading graphql_core-3.2.3-py3-none-any.whl (202 kB)\n",
                        "\u001b[2K     \u001b[90m\u2501\u2501\u2501\u2501\u2501\u2501\u2501\u2501\u2501\u2501\u2501\u2501\u2501\u2501\u2501\u2501\u2501\u2501\u2501\u2501\u2501\u2501\u2501\u2501\u2501\u2501\u2501\u2501\u2501\u2501\u2501\u2501\u2501\u2501\u2501\u2501\u2501\u2501\u2501\u001b[0m \u001b[32m202.9/202.9 kB\u001b[0m \u001b[31m9.0 MB/s\u001b[0m eta \u001b[36m0:00:00\u001b[0m\n",
                        "\u001b[?25hRequirement already satisfied: yarl<2.0,>=1.6 in /usr/local/lib/python3.10/dist-packages (from gql[requests]->dagshub) (1.9.2)\n",
                        "Collecting backoff<3.0,>=1.11.1 (from gql[requests]->dagshub)\n",
                        "  Downloading backoff-2.2.1-py3-none-any.whl (15 kB)\n",
                        "Requirement already satisfied: requests<3,>=2.26 in /usr/local/lib/python3.10/dist-packages (from gql[requests]->dagshub) (2.31.0)\n",
                        "Collecting requests-toolbelt<1,>=0.9.1 (from gql[requests]->dagshub)\n",
                        "  Downloading requests_toolbelt-0.10.1-py2.py3-none-any.whl (54 kB)\n",
                        "\u001b[2K     \u001b[90m\u2501\u2501\u2501\u2501\u2501\u2501\u2501\u2501\u2501\u2501\u2501\u2501\u2501\u2501\u2501\u2501\u2501\u2501\u2501\u2501\u2501\u2501\u2501\u2501\u2501\u2501\u2501\u2501\u2501\u2501\u2501\u2501\u2501\u2501\u2501\u2501\u2501\u2501\u2501\u2501\u001b[0m \u001b[32m54.5/54.5 kB\u001b[0m \u001b[31m8.3 MB/s\u001b[0m eta \u001b[36m0:00:00\u001b[0m\n",
                        "\u001b[?25hCollecting urllib3<2,>=1.26 (from gql[requests]->dagshub)\n",
                        "  Downloading urllib3-1.26.17-py2.py3-none-any.whl (143 kB)\n",
                        "\u001b[2K     \u001b[90m\u2501\u2501\u2501\u2501\u2501\u2501\u2501\u2501\u2501\u2501\u2501\u2501\u2501\u2501\u2501\u2501\u2501\u2501\u2501\u2501\u2501\u2501\u2501\u2501\u2501\u2501\u2501\u2501\u2501\u2501\u2501\u2501\u2501\u2501\u2501\u2501\u2501\u2501\u2501\u001b[0m \u001b[32m143.4/143.4 kB\u001b[0m \u001b[31m6.7 MB/s\u001b[0m eta \u001b[36m0:00:00\u001b[0m\n",
                        "\u001b[?25hRequirement already satisfied: pytz>=2020.1 in /usr/local/lib/python3.10/dist-packages (from pandas->dagshub) (2023.3.post1)\n",
                        "Requirement already satisfied: numpy>=1.21.0 in /usr/local/lib/python3.10/dist-packages (from pandas->dagshub) (1.23.5)\n",
                        "Requirement already satisfied: smmap<6,>=3.0.1 in /usr/local/lib/python3.10/dist-packages (from gitdb<5,>=4.0.1->GitPython>=3.1.29->dagshub) (5.0.1)\n",
                        "Collecting h11<0.15,>=0.13 (from httpcore<0.17.0,>=0.15.0->httpx~=0.23.0->dagshub)\n",
                        "  Downloading h11-0.14.0-py3-none-any.whl (58 kB)\n",
                        "\u001b[2K     \u001b[90m\u2501\u2501\u2501\u2501\u2501\u2501\u2501\u2501\u2501\u2501\u2501\u2501\u2501\u2501\u2501\u2501\u2501\u2501\u2501\u2501\u2501\u2501\u2501\u2501\u2501\u2501\u2501\u2501\u2501\u2501\u2501\u2501\u2501\u2501\u2501\u2501\u2501\u2501\u2501\u2501\u001b[0m \u001b[32m58.3/58.3 kB\u001b[0m \u001b[31m7.9 MB/s\u001b[0m eta \u001b[36m0:00:00\u001b[0m\n",
                        "\u001b[?25hRequirement already satisfied: anyio<5.0,>=3.0 in /usr/local/lib/python3.10/dist-packages (from httpcore<0.17.0,>=0.15.0->httpx~=0.23.0->dagshub) (3.7.1)\n",
                        "Requirement already satisfied: ipykernel>=4.5.1 in /usr/local/lib/python3.10/dist-packages (from ipywidgets<8.0.0,>=7.5.1->rich[jupyter]~=13.1.0->dagshub) (5.5.6)\n",
                        "Requirement already satisfied: ipython-genutils~=0.2.0 in /usr/local/lib/python3.10/dist-packages (from ipywidgets<8.0.0,>=7.5.1->rich[jupyter]~=13.1.0->dagshub) (0.2.0)\n",
                        "Requirement already satisfied: traitlets>=4.3.1 in /usr/local/lib/python3.10/dist-packages (from ipywidgets<8.0.0,>=7.5.1->rich[jupyter]~=13.1.0->dagshub) (5.7.1)\n",
                        "Requirement already satisfied: widgetsnbextension~=3.6.0 in /usr/local/lib/python3.10/dist-packages (from ipywidgets<8.0.0,>=7.5.1->rich[jupyter]~=13.1.0->dagshub) (3.6.6)\n",
                        "Requirement already satisfied: ipython>=4.0.0 in /usr/local/lib/python3.10/dist-packages (from ipywidgets<8.0.0,>=7.5.1->rich[jupyter]~=13.1.0->dagshub) (7.34.0)\n",
                        "Requirement already satisfied: jupyterlab-widgets>=1.0.0 in /usr/local/lib/python3.10/dist-packages (from ipywidgets<8.0.0,>=7.5.1->rich[jupyter]~=13.1.0->dagshub) (3.0.9)\n",
                        "Requirement already satisfied: packaging>=17.0 in /usr/local/lib/python3.10/dist-packages (from marshmallow<4.0.0,>=3.18.0->dataclasses-json->dagshub) (23.2)\n",
                        "Requirement already satisfied: charset-normalizer<4,>=2 in /usr/local/lib/python3.10/dist-packages (from requests<3,>=2.26->gql[requests]->dagshub) (3.3.0)\n",
                        "Requirement already satisfied: idna<4,>=2.5 in /usr/local/lib/python3.10/dist-packages (from requests<3,>=2.26->gql[requests]->dagshub) (3.4)\n",
                        "Collecting mypy-extensions>=0.3.0 (from typing-inspect<1,>=0.4.0->dataclasses-json->dagshub)\n",
                        "  Downloading mypy_extensions-1.0.0-py3-none-any.whl (4.7 kB)\n",
                        "Requirement already satisfied: typing-extensions>=3.7.4 in /usr/local/lib/python3.10/dist-packages (from typing-inspect<1,>=0.4.0->dataclasses-json->dagshub) (4.5.0)\n",
                        "Requirement already satisfied: multidict>=4.0 in /usr/local/lib/python3.10/dist-packages (from yarl<2.0,>=1.6->gql[requests]->dagshub) (6.0.4)\n",
                        "Requirement already satisfied: exceptiongroup in /usr/local/lib/python3.10/dist-packages (from anyio<5.0,>=3.0->httpcore<0.17.0,>=0.15.0->httpx~=0.23.0->dagshub) (1.1.3)\n",
                        "Requirement already satisfied: jupyter-client in /usr/local/lib/python3.10/dist-packages (from ipykernel>=4.5.1->ipywidgets<8.0.0,>=7.5.1->rich[jupyter]~=13.1.0->dagshub) (6.1.12)\n",
                        "Requirement already satisfied: tornado>=4.2 in /usr/local/lib/python3.10/dist-packages (from ipykernel>=4.5.1->ipywidgets<8.0.0,>=7.5.1->rich[jupyter]~=13.1.0->dagshub) (6.3.2)\n",
                        "Requirement already satisfied: setuptools>=18.5 in /usr/local/lib/python3.10/dist-packages (from ipython>=4.0.0->ipywidgets<8.0.0,>=7.5.1->rich[jupyter]~=13.1.0->dagshub) (67.7.2)\n",
                        "Collecting jedi>=0.16 (from ipython>=4.0.0->ipywidgets<8.0.0,>=7.5.1->rich[jupyter]~=13.1.0->dagshub)\n",
                        "  Downloading jedi-0.19.1-py2.py3-none-any.whl (1.6 MB)\n",
                        "\u001b[2K     \u001b[90m\u2501\u2501\u2501\u2501\u2501\u2501\u2501\u2501\u2501\u2501\u2501\u2501\u2501\u2501\u2501\u2501\u2501\u2501\u2501\u2501\u2501\u2501\u2501\u2501\u2501\u2501\u2501\u2501\u2501\u2501\u2501\u2501\u2501\u2501\u2501\u2501\u2501\u2501\u2501\u2501\u001b[0m \u001b[32m1.6/1.6 MB\u001b[0m \u001b[31m15.1 MB/s\u001b[0m eta \u001b[36m0:00:00\u001b[0m\n",
                        "\u001b[?25hRequirement already satisfied: decorator in /usr/local/lib/python3.10/dist-packages (from ipython>=4.0.0->ipywidgets<8.0.0,>=7.5.1->rich[jupyter]~=13.1.0->dagshub) (4.4.2)\n",
                        "Requirement already satisfied: pickleshare in /usr/local/lib/python3.10/dist-packages (from ipython>=4.0.0->ipywidgets<8.0.0,>=7.5.1->rich[jupyter]~=13.1.0->dagshub) (0.7.5)\n",
                        "Requirement already satisfied: prompt-toolkit!=3.0.0,!=3.0.1,<3.1.0,>=2.0.0 in /usr/local/lib/python3.10/dist-packages (from ipython>=4.0.0->ipywidgets<8.0.0,>=7.5.1->rich[jupyter]~=13.1.0->dagshub) (3.0.39)\n",
                        "Requirement already satisfied: backcall in /usr/local/lib/python3.10/dist-packages (from ipython>=4.0.0->ipywidgets<8.0.0,>=7.5.1->rich[jupyter]~=13.1.0->dagshub) (0.2.0)\n",
                        "Requirement already satisfied: matplotlib-inline in /usr/local/lib/python3.10/dist-packages (from ipython>=4.0.0->ipywidgets<8.0.0,>=7.5.1->rich[jupyter]~=13.1.0->dagshub) (0.1.6)\n",
                        "Requirement already satisfied: pexpect>4.3 in /usr/local/lib/python3.10/dist-packages (from ipython>=4.0.0->ipywidgets<8.0.0,>=7.5.1->rich[jupyter]~=13.1.0->dagshub) (4.8.0)\n",
                        "Requirement already satisfied: notebook>=4.4.1 in /usr/local/lib/python3.10/dist-packages (from widgetsnbextension~=3.6.0->ipywidgets<8.0.0,>=7.5.1->rich[jupyter]~=13.1.0->dagshub) (6.5.5)\n",
                        "Requirement already satisfied: parso<0.9.0,>=0.8.3 in /usr/local/lib/python3.10/dist-packages (from jedi>=0.16->ipython>=4.0.0->ipywidgets<8.0.0,>=7.5.1->rich[jupyter]~=13.1.0->dagshub) (0.8.3)\n",
                        "Requirement already satisfied: jinja2 in /usr/local/lib/python3.10/dist-packages (from notebook>=4.4.1->widgetsnbextension~=3.6.0->ipywidgets<8.0.0,>=7.5.1->rich[jupyter]~=13.1.0->dagshub) (3.1.2)\n",
                        "Requirement already satisfied: pyzmq<25,>=17 in /usr/local/lib/python3.10/dist-packages (from notebook>=4.4.1->widgetsnbextension~=3.6.0->ipywidgets<8.0.0,>=7.5.1->rich[jupyter]~=13.1.0->dagshub) (23.2.1)\n",
                        "Requirement already satisfied: argon2-cffi in /usr/local/lib/python3.10/dist-packages (from notebook>=4.4.1->widgetsnbextension~=3.6.0->ipywidgets<8.0.0,>=7.5.1->rich[jupyter]~=13.1.0->dagshub) (23.1.0)\n",
                        "Requirement already satisfied: jupyter-core>=4.6.1 in /usr/local/lib/python3.10/dist-packages (from notebook>=4.4.1->widgetsnbextension~=3.6.0->ipywidgets<8.0.0,>=7.5.1->rich[jupyter]~=13.1.0->dagshub) (5.3.2)\n",
                        "Requirement already satisfied: nbformat in /usr/local/lib/python3.10/dist-packages (from notebook>=4.4.1->widgetsnbextension~=3.6.0->ipywidgets<8.0.0,>=7.5.1->rich[jupyter]~=13.1.0->dagshub) (5.9.2)\n",
                        "Requirement already satisfied: nbconvert>=5 in /usr/local/lib/python3.10/dist-packages (from notebook>=4.4.1->widgetsnbextension~=3.6.0->ipywidgets<8.0.0,>=7.5.1->rich[jupyter]~=13.1.0->dagshub) (6.5.4)\n",
                        "Requirement already satisfied: nest-asyncio>=1.5 in /usr/local/lib/python3.10/dist-packages (from notebook>=4.4.1->widgetsnbextension~=3.6.0->ipywidgets<8.0.0,>=7.5.1->rich[jupyter]~=13.1.0->dagshub) (1.5.8)\n",
                        "Requirement already satisfied: Send2Trash>=1.8.0 in /usr/local/lib/python3.10/dist-packages (from notebook>=4.4.1->widgetsnbextension~=3.6.0->ipywidgets<8.0.0,>=7.5.1->rich[jupyter]~=13.1.0->dagshub) (1.8.2)\n",
                        "Requirement already satisfied: terminado>=0.8.3 in /usr/local/lib/python3.10/dist-packages (from notebook>=4.4.1->widgetsnbextension~=3.6.0->ipywidgets<8.0.0,>=7.5.1->rich[jupyter]~=13.1.0->dagshub) (0.17.1)\n",
                        "Requirement already satisfied: prometheus-client in /usr/local/lib/python3.10/dist-packages (from notebook>=4.4.1->widgetsnbextension~=3.6.0->ipywidgets<8.0.0,>=7.5.1->rich[jupyter]~=13.1.0->dagshub) (0.17.1)\n",
                        "Requirement already satisfied: nbclassic>=0.4.7 in /usr/local/lib/python3.10/dist-packages (from notebook>=4.4.1->widgetsnbextension~=3.6.0->ipywidgets<8.0.0,>=7.5.1->rich[jupyter]~=13.1.0->dagshub) (1.0.0)\n",
                        "Requirement already satisfied: ptyprocess>=0.5 in /usr/local/lib/python3.10/dist-packages (from pexpect>4.3->ipython>=4.0.0->ipywidgets<8.0.0,>=7.5.1->rich[jupyter]~=13.1.0->dagshub) (0.7.0)\n",
                        "Requirement already satisfied: wcwidth in /usr/local/lib/python3.10/dist-packages (from prompt-toolkit!=3.0.0,!=3.0.1,<3.1.0,>=2.0.0->ipython>=4.0.0->ipywidgets<8.0.0,>=7.5.1->rich[jupyter]~=13.1.0->dagshub) (0.2.8)\n",
                        "Requirement already satisfied: platformdirs>=2.5 in /usr/local/lib/python3.10/dist-packages (from jupyter-core>=4.6.1->notebook>=4.4.1->widgetsnbextension~=3.6.0->ipywidgets<8.0.0,>=7.5.1->rich[jupyter]~=13.1.0->dagshub) (3.11.0)\n",
                        "Requirement already satisfied: jupyter-server>=1.8 in /usr/local/lib/python3.10/dist-packages (from nbclassic>=0.4.7->notebook>=4.4.1->widgetsnbextension~=3.6.0->ipywidgets<8.0.0,>=7.5.1->rich[jupyter]~=13.1.0->dagshub) (1.24.0)\n",
                        "Requirement already satisfied: notebook-shim>=0.2.3 in /usr/local/lib/python3.10/dist-packages (from nbclassic>=0.4.7->notebook>=4.4.1->widgetsnbextension~=3.6.0->ipywidgets<8.0.0,>=7.5.1->rich[jupyter]~=13.1.0->dagshub) (0.2.3)\n",
                        "Requirement already satisfied: lxml in /usr/local/lib/python3.10/dist-packages (from nbconvert>=5->notebook>=4.4.1->widgetsnbextension~=3.6.0->ipywidgets<8.0.0,>=7.5.1->rich[jupyter]~=13.1.0->dagshub) (4.9.3)\n",
                        "Requirement already satisfied: beautifulsoup4 in /usr/local/lib/python3.10/dist-packages (from nbconvert>=5->notebook>=4.4.1->widgetsnbextension~=3.6.0->ipywidgets<8.0.0,>=7.5.1->rich[jupyter]~=13.1.0->dagshub) (4.11.2)\n",
                        "Requirement already satisfied: bleach in /usr/local/lib/python3.10/dist-packages (from nbconvert>=5->notebook>=4.4.1->widgetsnbextension~=3.6.0->ipywidgets<8.0.0,>=7.5.1->rich[jupyter]~=13.1.0->dagshub) (6.0.0)\n",
                        "Requirement already satisfied: defusedxml in /usr/local/lib/python3.10/dist-packages (from nbconvert>=5->notebook>=4.4.1->widgetsnbextension~=3.6.0->ipywidgets<8.0.0,>=7.5.1->rich[jupyter]~=13.1.0->dagshub) (0.7.1)\n",
                        "Requirement already satisfied: entrypoints>=0.2.2 in /usr/local/lib/python3.10/dist-packages (from nbconvert>=5->notebook>=4.4.1->widgetsnbextension~=3.6.0->ipywidgets<8.0.0,>=7.5.1->rich[jupyter]~=13.1.0->dagshub) (0.4)\n",
                        "Requirement already satisfied: jupyterlab-pygments in /usr/local/lib/python3.10/dist-packages (from nbconvert>=5->notebook>=4.4.1->widgetsnbextension~=3.6.0->ipywidgets<8.0.0,>=7.5.1->rich[jupyter]~=13.1.0->dagshub) (0.2.2)\n",
                        "Requirement already satisfied: MarkupSafe>=2.0 in /usr/local/lib/python3.10/dist-packages (from nbconvert>=5->notebook>=4.4.1->widgetsnbextension~=3.6.0->ipywidgets<8.0.0,>=7.5.1->rich[jupyter]~=13.1.0->dagshub) (2.1.3)\n",
                        "Requirement already satisfied: mistune<2,>=0.8.1 in /usr/local/lib/python3.10/dist-packages (from nbconvert>=5->notebook>=4.4.1->widgetsnbextension~=3.6.0->ipywidgets<8.0.0,>=7.5.1->rich[jupyter]~=13.1.0->dagshub) (0.8.4)\n",
                        "Requirement already satisfied: nbclient>=0.5.0 in /usr/local/lib/python3.10/dist-packages (from nbconvert>=5->notebook>=4.4.1->widgetsnbextension~=3.6.0->ipywidgets<8.0.0,>=7.5.1->rich[jupyter]~=13.1.0->dagshub) (0.8.0)\n",
                        "Requirement already satisfied: pandocfilters>=1.4.1 in /usr/local/lib/python3.10/dist-packages (from nbconvert>=5->notebook>=4.4.1->widgetsnbextension~=3.6.0->ipywidgets<8.0.0,>=7.5.1->rich[jupyter]~=13.1.0->dagshub) (1.5.0)\n",
                        "Requirement already satisfied: tinycss2 in /usr/local/lib/python3.10/dist-packages (from nbconvert>=5->notebook>=4.4.1->widgetsnbextension~=3.6.0->ipywidgets<8.0.0,>=7.5.1->rich[jupyter]~=13.1.0->dagshub) (1.2.1)\n",
                        "Requirement already satisfied: fastjsonschema in /usr/local/lib/python3.10/dist-packages (from nbformat->notebook>=4.4.1->widgetsnbextension~=3.6.0->ipywidgets<8.0.0,>=7.5.1->rich[jupyter]~=13.1.0->dagshub) (2.18.1)\n",
                        "Requirement already satisfied: jsonschema>=2.6 in /usr/local/lib/python3.10/dist-packages (from nbformat->notebook>=4.4.1->widgetsnbextension~=3.6.0->ipywidgets<8.0.0,>=7.5.1->rich[jupyter]~=13.1.0->dagshub) (4.19.1)\n",
                        "Requirement already satisfied: argon2-cffi-bindings in /usr/local/lib/python3.10/dist-packages (from argon2-cffi->notebook>=4.4.1->widgetsnbextension~=3.6.0->ipywidgets<8.0.0,>=7.5.1->rich[jupyter]~=13.1.0->dagshub) (21.2.0)\n",
                        "Requirement already satisfied: attrs>=22.2.0 in /usr/local/lib/python3.10/dist-packages (from jsonschema>=2.6->nbformat->notebook>=4.4.1->widgetsnbextension~=3.6.0->ipywidgets<8.0.0,>=7.5.1->rich[jupyter]~=13.1.0->dagshub) (23.1.0)\n",
                        "Requirement already satisfied: jsonschema-specifications>=2023.03.6 in /usr/local/lib/python3.10/dist-packages (from jsonschema>=2.6->nbformat->notebook>=4.4.1->widgetsnbextension~=3.6.0->ipywidgets<8.0.0,>=7.5.1->rich[jupyter]~=13.1.0->dagshub) (2023.7.1)\n",
                        "Requirement already satisfied: referencing>=0.28.4 in /usr/local/lib/python3.10/dist-packages (from jsonschema>=2.6->nbformat->notebook>=4.4.1->widgetsnbextension~=3.6.0->ipywidgets<8.0.0,>=7.5.1->rich[jupyter]~=13.1.0->dagshub) (0.30.2)\n",
                        "Requirement already satisfied: rpds-py>=0.7.1 in /usr/local/lib/python3.10/dist-packages (from jsonschema>=2.6->nbformat->notebook>=4.4.1->widgetsnbextension~=3.6.0->ipywidgets<8.0.0,>=7.5.1->rich[jupyter]~=13.1.0->dagshub) (0.10.4)\n",
                        "Requirement already satisfied: websocket-client in /usr/local/lib/python3.10/dist-packages (from jupyter-server>=1.8->nbclassic>=0.4.7->notebook>=4.4.1->widgetsnbextension~=3.6.0->ipywidgets<8.0.0,>=7.5.1->rich[jupyter]~=13.1.0->dagshub) (1.6.3)\n",
                        "Requirement already satisfied: cffi>=1.0.1 in /usr/local/lib/python3.10/dist-packages (from argon2-cffi-bindings->argon2-cffi->notebook>=4.4.1->widgetsnbextension~=3.6.0->ipywidgets<8.0.0,>=7.5.1->rich[jupyter]~=13.1.0->dagshub) (1.16.0)\n",
                        "Requirement already satisfied: soupsieve>1.2 in /usr/local/lib/python3.10/dist-packages (from beautifulsoup4->nbconvert>=5->notebook>=4.4.1->widgetsnbextension~=3.6.0->ipywidgets<8.0.0,>=7.5.1->rich[jupyter]~=13.1.0->dagshub) (2.5)\n",
                        "Requirement already satisfied: webencodings in /usr/local/lib/python3.10/dist-packages (from bleach->nbconvert>=5->notebook>=4.4.1->widgetsnbextension~=3.6.0->ipywidgets<8.0.0,>=7.5.1->rich[jupyter]~=13.1.0->dagshub) (0.5.1)\n",
                        "Requirement already satisfied: pycparser in /usr/local/lib/python3.10/dist-packages (from cffi>=1.0.1->argon2-cffi-bindings->argon2-cffi->notebook>=4.4.1->widgetsnbextension~=3.6.0->ipywidgets<8.0.0,>=7.5.1->rich[jupyter]~=13.1.0->dagshub) (2.21)\n",
                        "Building wheels for collected packages: fusepy\n",
                        "  Building wheel for fusepy (setup.py) ... \u001b[?25l\u001b[?25hdone\n",
                        "  Created wheel for fusepy: filename=fusepy-3.0.1-py3-none-any.whl size=10486 sha256=a946eea1508e74d5df925a43e443d8392b2f9ffdc4ca1d2f102b9b44f35655b3\n",
                        "  Stored in directory: /root/.cache/pip/wheels/c0/18/f6/f0d6be9d0435e2677ce5cc758e91da50053dce456a346f08c5\n",
                        "Successfully built fusepy\n",
                        "Installing collected packages: rfc3986, fusepy, commonmark, urllib3, treelib, rich, pathvalidate, mypy-extensions, marshmallow, jedi, h11, graphql-core, dacite, backoff, typing-inspect, httpcore, gql, requests-toolbelt, httpx, dataclasses-json, dagshub\n",
                        "  Attempting uninstall: urllib3\n",
                        "    Found existing installation: urllib3 2.0.6\n",
                        "    Uninstalling urllib3-2.0.6:\n",
                        "      Successfully uninstalled urllib3-2.0.6\n",
                        "  Attempting uninstall: rich\n",
                        "    Found existing installation: rich 13.6.0\n",
                        "    Uninstalling rich-13.6.0:\n",
                        "      Successfully uninstalled rich-13.6.0\n",
                        "Successfully installed backoff-2.2.1 commonmark-0.9.1 dacite-1.6.0 dagshub-0.3.8.post1 dataclasses-json-0.6.1 fusepy-3.0.1 gql-3.4.1 graphql-core-3.2.3 h11-0.14.0 httpcore-0.16.3 httpx-0.23.3 jedi-0.19.1 marshmallow-3.20.1 mypy-extensions-1.0.0 pathvalidate-3.0.0 requests-toolbelt-0.10.1 rfc3986-1.5.0 rich-13.1.0 treelib-1.6.4 typing-inspect-0.9.0 urllib3-1.26.17\n"
                    ]
                },
                {
                    "output_type": "display_data",
                    "data": {
                        "application/vnd.colab-display-data+json": {
                            "pip_warning": {
                                "packages": [
                                    "urllib3"
                                ]
                            }
                        }
                    },
                    "metadata": {}
                }
            ]
        },
        {
            "cell_type": "code",
            "source": [
                "from dagshub.notebook import save_notebook\n"
            ],
            "metadata": {
                "id": "_L608fBoHjOi",
                "executionInfo": {
                    "status": "ok",
                    "timestamp": 1696883232082,
                    "user_tz": 360,
                    "elapsed": 682,
                    "user": {
                        "displayName": "",
                        "userId": ""
                    }
                }
            },
            "execution_count": 6,
            "outputs": []
        },
        {
            "cell_type": "code",
            "source": [
                "save_notebook(repo=\"Jeremy-22/Dogs-vs-Cats\")\n"
            ],
            "metadata": {
                "id": "-V1BKjfpIaly"
            },
            "execution_count": null,
            "outputs": []
        },
        {
            "cell_type": "code",
            "source": [],
            "metadata": {
                "id": "daxyIY4yiNO9"
            },
            "execution_count": null,
            "outputs": []
        }
    ]
}